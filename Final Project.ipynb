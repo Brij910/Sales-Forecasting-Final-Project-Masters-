{
 "cells": [
  {
   "cell_type": "code",
   "execution_count": null,
   "id": "11c97d30",
   "metadata": {},
   "outputs": [],
   "source": [
    "#xgboost\n",
    "# https://www.kaggle.com/code/shramanabhattacharya/eda-sales-prediction-using-xgboost"
   ]
  },
  {
   "cell_type": "code",
   "execution_count": 1,
   "id": "798a8374",
   "metadata": {},
   "outputs": [],
   "source": [
    "import numpy as np\n",
    "import pandas as pd\n",
    "\n",
    "from calendar import monthrange\n",
    "\n",
    "import warnings\n",
    "warnings.filterwarnings(\"ignore\")\n",
    "\n",
    "from sklearn.ensemble import RandomForestRegressor\n",
    "from sklearn.metrics import mean_squared_log_error\n",
    "\n",
    "from xgboost import XGBRegressor\n",
    "from sklearn.multioutput import MultiOutputRegressor"
   ]
  },
  {
   "cell_type": "code",
   "execution_count": 2,
   "id": "bac21445",
   "metadata": {},
   "outputs": [],
   "source": [
    "import pandas as pd\n",
    "import matplotlib.pyplot as plt\n",
    "import seaborn as sns\n",
    "import numpy as np\n",
    "import os.path"
   ]
  },
  {
   "cell_type": "code",
   "execution_count": 4,
   "id": "5f7b6ddc",
   "metadata": {},
   "outputs": [],
   "source": [
    "holidays=pd.read_csv('holidays_events.csv')\n",
    "oil=pd.read_csv('oil.csv')\n",
    "stores=pd.read_csv('stores.csv')\n",
    "test=pd.read_csv('test.csv')\n",
    "train=pd.read_csv('train.csv')\n",
    "transactions=pd.read_csv('transactions.csv')"
   ]
  },
  {
   "cell_type": "code",
   "execution_count": 5,
   "id": "8839c77a",
   "metadata": {},
   "outputs": [],
   "source": [
    "test1=pd.read_csv('test.csv') #creating another copy of test data which will be used later.\n"
   ]
  },
  {
   "cell_type": "code",
   "execution_count": 6,
   "id": "e1890691",
   "metadata": {},
   "outputs": [
    {
     "data": {
      "text/plain": [
       "(54, 5)"
      ]
     },
     "execution_count": 6,
     "metadata": {},
     "output_type": "execute_result"
    }
   ],
   "source": [
    "stores.shape"
   ]
  },
  {
   "cell_type": "code",
   "execution_count": 7,
   "id": "bd9500cc",
   "metadata": {},
   "outputs": [],
   "source": [
    "m1=pd.merge(holidays,oil)\n",
    "m2=pd.merge(train,stores)\n",
    "m3=pd.merge(m2,transactions)\n",
    "df=pd.merge(m3,m1,on=\"date\")"
   ]
  },
  {
   "cell_type": "code",
   "execution_count": 8,
   "id": "3c5a6c3f",
   "metadata": {},
   "outputs": [
    {
     "data": {
      "text/html": [
       "<div>\n",
       "<style scoped>\n",
       "    .dataframe tbody tr th:only-of-type {\n",
       "        vertical-align: middle;\n",
       "    }\n",
       "\n",
       "    .dataframe tbody tr th {\n",
       "        vertical-align: top;\n",
       "    }\n",
       "\n",
       "    .dataframe thead th {\n",
       "        text-align: right;\n",
       "    }\n",
       "</style>\n",
       "<table border=\"1\" class=\"dataframe\">\n",
       "  <thead>\n",
       "    <tr style=\"text-align: right;\">\n",
       "      <th></th>\n",
       "      <th>id</th>\n",
       "      <th>date</th>\n",
       "      <th>store_nbr</th>\n",
       "      <th>family</th>\n",
       "      <th>sales</th>\n",
       "      <th>onpromotion</th>\n",
       "      <th>city</th>\n",
       "      <th>state</th>\n",
       "      <th>type_x</th>\n",
       "      <th>cluster</th>\n",
       "      <th>transactions</th>\n",
       "      <th>type_y</th>\n",
       "      <th>locale</th>\n",
       "      <th>locale_name</th>\n",
       "      <th>description</th>\n",
       "      <th>transferred</th>\n",
       "      <th>dcoilwtico</th>\n",
       "    </tr>\n",
       "  </thead>\n",
       "  <tbody>\n",
       "    <tr>\n",
       "      <th>0</th>\n",
       "      <td>73062</td>\n",
       "      <td>2013-02-11</td>\n",
       "      <td>1</td>\n",
       "      <td>AUTOMOTIVE</td>\n",
       "      <td>0.0</td>\n",
       "      <td>0</td>\n",
       "      <td>Quito</td>\n",
       "      <td>Pichincha</td>\n",
       "      <td>D</td>\n",
       "      <td>13</td>\n",
       "      <td>396</td>\n",
       "      <td>Holiday</td>\n",
       "      <td>National</td>\n",
       "      <td>Ecuador</td>\n",
       "      <td>Carnaval</td>\n",
       "      <td>False</td>\n",
       "      <td>97.01</td>\n",
       "    </tr>\n",
       "    <tr>\n",
       "      <th>1</th>\n",
       "      <td>73063</td>\n",
       "      <td>2013-02-11</td>\n",
       "      <td>1</td>\n",
       "      <td>BABY CARE</td>\n",
       "      <td>0.0</td>\n",
       "      <td>0</td>\n",
       "      <td>Quito</td>\n",
       "      <td>Pichincha</td>\n",
       "      <td>D</td>\n",
       "      <td>13</td>\n",
       "      <td>396</td>\n",
       "      <td>Holiday</td>\n",
       "      <td>National</td>\n",
       "      <td>Ecuador</td>\n",
       "      <td>Carnaval</td>\n",
       "      <td>False</td>\n",
       "      <td>97.01</td>\n",
       "    </tr>\n",
       "    <tr>\n",
       "      <th>2</th>\n",
       "      <td>73064</td>\n",
       "      <td>2013-02-11</td>\n",
       "      <td>1</td>\n",
       "      <td>BEAUTY</td>\n",
       "      <td>0.0</td>\n",
       "      <td>0</td>\n",
       "      <td>Quito</td>\n",
       "      <td>Pichincha</td>\n",
       "      <td>D</td>\n",
       "      <td>13</td>\n",
       "      <td>396</td>\n",
       "      <td>Holiday</td>\n",
       "      <td>National</td>\n",
       "      <td>Ecuador</td>\n",
       "      <td>Carnaval</td>\n",
       "      <td>False</td>\n",
       "      <td>97.01</td>\n",
       "    </tr>\n",
       "    <tr>\n",
       "      <th>3</th>\n",
       "      <td>73065</td>\n",
       "      <td>2013-02-11</td>\n",
       "      <td>1</td>\n",
       "      <td>BEVERAGES</td>\n",
       "      <td>172.0</td>\n",
       "      <td>0</td>\n",
       "      <td>Quito</td>\n",
       "      <td>Pichincha</td>\n",
       "      <td>D</td>\n",
       "      <td>13</td>\n",
       "      <td>396</td>\n",
       "      <td>Holiday</td>\n",
       "      <td>National</td>\n",
       "      <td>Ecuador</td>\n",
       "      <td>Carnaval</td>\n",
       "      <td>False</td>\n",
       "      <td>97.01</td>\n",
       "    </tr>\n",
       "    <tr>\n",
       "      <th>4</th>\n",
       "      <td>73066</td>\n",
       "      <td>2013-02-11</td>\n",
       "      <td>1</td>\n",
       "      <td>BOOKS</td>\n",
       "      <td>0.0</td>\n",
       "      <td>0</td>\n",
       "      <td>Quito</td>\n",
       "      <td>Pichincha</td>\n",
       "      <td>D</td>\n",
       "      <td>13</td>\n",
       "      <td>396</td>\n",
       "      <td>Holiday</td>\n",
       "      <td>National</td>\n",
       "      <td>Ecuador</td>\n",
       "      <td>Carnaval</td>\n",
       "      <td>False</td>\n",
       "      <td>97.01</td>\n",
       "    </tr>\n",
       "  </tbody>\n",
       "</table>\n",
       "</div>"
      ],
      "text/plain": [
       "      id        date  store_nbr      family  sales  onpromotion   city  \\\n",
       "0  73062  2013-02-11          1  AUTOMOTIVE    0.0            0  Quito   \n",
       "1  73063  2013-02-11          1   BABY CARE    0.0            0  Quito   \n",
       "2  73064  2013-02-11          1      BEAUTY    0.0            0  Quito   \n",
       "3  73065  2013-02-11          1   BEVERAGES  172.0            0  Quito   \n",
       "4  73066  2013-02-11          1       BOOKS    0.0            0  Quito   \n",
       "\n",
       "       state type_x  cluster  transactions   type_y    locale locale_name  \\\n",
       "0  Pichincha      D       13           396  Holiday  National     Ecuador   \n",
       "1  Pichincha      D       13           396  Holiday  National     Ecuador   \n",
       "2  Pichincha      D       13           396  Holiday  National     Ecuador   \n",
       "3  Pichincha      D       13           396  Holiday  National     Ecuador   \n",
       "4  Pichincha      D       13           396  Holiday  National     Ecuador   \n",
       "\n",
       "  description  transferred  dcoilwtico  \n",
       "0    Carnaval        False       97.01  \n",
       "1    Carnaval        False       97.01  \n",
       "2    Carnaval        False       97.01  \n",
       "3    Carnaval        False       97.01  \n",
       "4    Carnaval        False       97.01  "
      ]
     },
     "execution_count": 8,
     "metadata": {},
     "output_type": "execute_result"
    }
   ],
   "source": [
    "df.head()"
   ]
  },
  {
   "cell_type": "code",
   "execution_count": 9,
   "id": "88bceeb5",
   "metadata": {},
   "outputs": [
    {
     "data": {
      "text/plain": [
       "(322047, 17)"
      ]
     },
     "execution_count": 9,
     "metadata": {},
     "output_type": "execute_result"
    }
   ],
   "source": [
    "df.shape"
   ]
  },
  {
   "cell_type": "code",
   "execution_count": 10,
   "id": "f137bc8a",
   "metadata": {},
   "outputs": [
    {
     "data": {
      "text/html": [
       "<div>\n",
       "<style scoped>\n",
       "    .dataframe tbody tr th:only-of-type {\n",
       "        vertical-align: middle;\n",
       "    }\n",
       "\n",
       "    .dataframe tbody tr th {\n",
       "        vertical-align: top;\n",
       "    }\n",
       "\n",
       "    .dataframe thead th {\n",
       "        text-align: right;\n",
       "    }\n",
       "</style>\n",
       "<table border=\"1\" class=\"dataframe\">\n",
       "  <thead>\n",
       "    <tr style=\"text-align: right;\">\n",
       "      <th></th>\n",
       "      <th>id</th>\n",
       "      <th>store_nbr</th>\n",
       "      <th>sales</th>\n",
       "      <th>onpromotion</th>\n",
       "      <th>cluster</th>\n",
       "      <th>transactions</th>\n",
       "      <th>dcoilwtico</th>\n",
       "    </tr>\n",
       "  </thead>\n",
       "  <tbody>\n",
       "    <tr>\n",
       "      <th>count</th>\n",
       "      <td>3.220470e+05</td>\n",
       "      <td>322047.000000</td>\n",
       "      <td>322047.000000</td>\n",
       "      <td>322047.000000</td>\n",
       "      <td>322047.000000</td>\n",
       "      <td>322047.000000</td>\n",
       "      <td>300003.000000</td>\n",
       "    </tr>\n",
       "    <tr>\n",
       "      <th>mean</th>\n",
       "      <td>1.682979e+06</td>\n",
       "      <td>26.994672</td>\n",
       "      <td>406.383452</td>\n",
       "      <td>3.727136</td>\n",
       "      <td>8.531202</td>\n",
       "      <td>1734.117840</td>\n",
       "      <td>64.077912</td>\n",
       "    </tr>\n",
       "    <tr>\n",
       "      <th>std</th>\n",
       "      <td>7.862493e+05</td>\n",
       "      <td>15.595174</td>\n",
       "      <td>1246.881240</td>\n",
       "      <td>15.512095</td>\n",
       "      <td>4.713809</td>\n",
       "      <td>1050.335018</td>\n",
       "      <td>25.147682</td>\n",
       "    </tr>\n",
       "    <tr>\n",
       "      <th>min</th>\n",
       "      <td>5.610000e+02</td>\n",
       "      <td>1.000000</td>\n",
       "      <td>0.000000</td>\n",
       "      <td>0.000000</td>\n",
       "      <td>1.000000</td>\n",
       "      <td>54.000000</td>\n",
       "      <td>27.960000</td>\n",
       "    </tr>\n",
       "    <tr>\n",
       "      <th>25%</th>\n",
       "      <td>1.010616e+06</td>\n",
       "      <td>13.000000</td>\n",
       "      <td>1.000000</td>\n",
       "      <td>0.000000</td>\n",
       "      <td>4.000000</td>\n",
       "      <td>1030.000000</td>\n",
       "      <td>44.660000</td>\n",
       "    </tr>\n",
       "    <tr>\n",
       "      <th>50%</th>\n",
       "      <td>1.842406e+06</td>\n",
       "      <td>27.000000</td>\n",
       "      <td>19.000000</td>\n",
       "      <td>0.000000</td>\n",
       "      <td>9.000000</td>\n",
       "      <td>1409.000000</td>\n",
       "      <td>51.440000</td>\n",
       "    </tr>\n",
       "    <tr>\n",
       "      <th>75%</th>\n",
       "      <td>2.209556e+06</td>\n",
       "      <td>40.000000</td>\n",
       "      <td>241.260505</td>\n",
       "      <td>1.000000</td>\n",
       "      <td>13.000000</td>\n",
       "      <td>2148.000000</td>\n",
       "      <td>94.740000</td>\n",
       "    </tr>\n",
       "    <tr>\n",
       "      <th>max</th>\n",
       "      <td>3.000887e+06</td>\n",
       "      <td>54.000000</td>\n",
       "      <td>124717.000000</td>\n",
       "      <td>716.000000</td>\n",
       "      <td>17.000000</td>\n",
       "      <td>8359.000000</td>\n",
       "      <td>107.950000</td>\n",
       "    </tr>\n",
       "  </tbody>\n",
       "</table>\n",
       "</div>"
      ],
      "text/plain": [
       "                 id      store_nbr          sales    onpromotion  \\\n",
       "count  3.220470e+05  322047.000000  322047.000000  322047.000000   \n",
       "mean   1.682979e+06      26.994672     406.383452       3.727136   \n",
       "std    7.862493e+05      15.595174    1246.881240      15.512095   \n",
       "min    5.610000e+02       1.000000       0.000000       0.000000   \n",
       "25%    1.010616e+06      13.000000       1.000000       0.000000   \n",
       "50%    1.842406e+06      27.000000      19.000000       0.000000   \n",
       "75%    2.209556e+06      40.000000     241.260505       1.000000   \n",
       "max    3.000887e+06      54.000000  124717.000000     716.000000   \n",
       "\n",
       "             cluster   transactions     dcoilwtico  \n",
       "count  322047.000000  322047.000000  300003.000000  \n",
       "mean        8.531202    1734.117840      64.077912  \n",
       "std         4.713809    1050.335018      25.147682  \n",
       "min         1.000000      54.000000      27.960000  \n",
       "25%         4.000000    1030.000000      44.660000  \n",
       "50%         9.000000    1409.000000      51.440000  \n",
       "75%        13.000000    2148.000000      94.740000  \n",
       "max        17.000000    8359.000000     107.950000  "
      ]
     },
     "execution_count": 10,
     "metadata": {},
     "output_type": "execute_result"
    }
   ],
   "source": [
    "df.describe()"
   ]
  },
  {
   "cell_type": "code",
   "execution_count": 11,
   "id": "5b81015f",
   "metadata": {},
   "outputs": [],
   "source": [
    "df.loc[(df.dcoilwtico.isnull()),'dcoilwtico']=df.dcoilwtico.mean()"
   ]
  },
  {
   "cell_type": "code",
   "execution_count": 12,
   "id": "111e0e14",
   "metadata": {},
   "outputs": [
    {
     "name": "stdout",
     "output_type": "stream",
     "text": [
      "<class 'pandas.core.frame.DataFrame'>\n",
      "Int64Index: 322047 entries, 0 to 322046\n",
      "Data columns (total 17 columns):\n",
      " #   Column        Non-Null Count   Dtype  \n",
      "---  ------        --------------   -----  \n",
      " 0   id            322047 non-null  int64  \n",
      " 1   date          322047 non-null  object \n",
      " 2   store_nbr     322047 non-null  int64  \n",
      " 3   family        322047 non-null  object \n",
      " 4   sales         322047 non-null  float64\n",
      " 5   onpromotion   322047 non-null  int64  \n",
      " 6   city          322047 non-null  object \n",
      " 7   state         322047 non-null  object \n",
      " 8   type_x        322047 non-null  object \n",
      " 9   cluster       322047 non-null  int64  \n",
      " 10  transactions  322047 non-null  int64  \n",
      " 11  type_y        322047 non-null  object \n",
      " 12  locale        322047 non-null  object \n",
      " 13  locale_name   322047 non-null  object \n",
      " 14  description   322047 non-null  object \n",
      " 15  transferred   322047 non-null  bool   \n",
      " 16  dcoilwtico    322047 non-null  float64\n",
      "dtypes: bool(1), float64(2), int64(5), object(9)\n",
      "memory usage: 42.1+ MB\n"
     ]
    }
   ],
   "source": [
    "df.info()"
   ]
  },
  {
   "cell_type": "code",
   "execution_count": 13,
   "id": "8776f91c",
   "metadata": {},
   "outputs": [],
   "source": [
    "#Converting the date column from string to datetime dtype.\n",
    "from datetime import datetime\n",
    "df['new_date']=pd.to_datetime(df['date'],format='%Y-%m-%d',errors='coerce')"
   ]
  },
  {
   "cell_type": "code",
   "execution_count": 14,
   "id": "214f51c1",
   "metadata": {},
   "outputs": [
    {
     "data": {
      "text/plain": [
       "<AxesSubplot:xlabel='new_date', ylabel='sales'>"
      ]
     },
     "execution_count": 14,
     "metadata": {},
     "output_type": "execute_result"
    },
    {
     "data": {
      "image/png": "[encoded data removed]",
      "text/plain": [
       "<Figure size 432x288 with 1 Axes>"
      ]
     },
     "metadata": {
      "needs_background": "light"
     },
     "output_type": "display_data"
    }
   ],
   "source": [
    "#Time Series plot of the sales data\n",
    "sns.lineplot(x='new_date',y='sales',data=df,ci=None,estimator='mean')"
   ]
  },
  {
   "cell_type": "code",
   "execution_count": 15,
   "id": "74f6eb83",
   "metadata": {},
   "outputs": [],
   "source": [
    "df[[\"year\", \"month\", \"day\"]] = df[\"date\"].str.split(\"-\", expand = True)\n",
    "\n",
    "\n",
    "df['month'].replace(['01','02','03','04','05','06','07','08','09','10','11','12'],['Jan','Feb','Mar','Apr','May','June','July','Aug','Sept','Oct','Nov','Dec'],inplace=True)\n",
    "df['month'] = pd.Categorical(df['month'],\n",
    "                                   categories=['Jan','Feb','Mar','Apr','May','June','July','Aug','Sept','Oct','Nov','Dec'],\n",
    "                                   ordered=True)\n",
    "df['day'] = pd.Categorical(df['day'],categories=['01','02','03','04','05','06','07','08','09','10','11', '12', '14','15','16','17','18','19','20','21','22','23', '24', '25', '26', '27','28','29','30','31'],ordered=True)\n",
    "        "
   ]
  },
  {
   "cell_type": "code",
   "execution_count": 16,
   "id": "cfd9c795",
   "metadata": {},
   "outputs": [
    {
     "data": {
      "text/plain": [
       "<AxesSubplot:xlabel='month', ylabel='sales'>"
      ]
     },
     "execution_count": 16,
     "metadata": {},
     "output_type": "execute_result"
    },
    {
     "data": {
      "image/png": "[encoded data removed]",
      "text/plain": [
       "<Figure size 1800x1080 with 2 Axes>"
      ]
     },
     "metadata": {
      "needs_background": "light"
     },
     "output_type": "display_data"
    }
   ],
   "source": [
    "#plotting the monthwise sales trend\n",
    "f,ax=plt.subplots(1,2,figsize=(25,15))\n",
    "sns.lineplot(x='year',y='sales',data=df,ci=None,estimator='mean',ax=ax[0])\n",
    "sns.lineplot(x='month',y='sales',data=df,ci=None,estimator='mean',ax=ax[1])"
   ]
  },
  {
   "cell_type": "code",
   "execution_count": 17,
   "id": "cc687146",
   "metadata": {},
   "outputs": [
    {
     "data": {
      "text/plain": [
       "33"
      ]
     },
     "execution_count": 17,
     "metadata": {},
     "output_type": "execute_result"
    }
   ],
   "source": [
    "df['family'].nunique()"
   ]
  },
  {
   "cell_type": "code",
   "execution_count": 18,
   "id": "09318a7d",
   "metadata": {},
   "outputs": [],
   "source": [
    "df['family'].replace(['AUTOMOTIVE', 'HARDWARE', 'LAWN AND GARDEN', 'PLAYERS AND ELECTRONICS'], 'Tools', inplace = True)\n",
    "df['family'].replace(['BEAUTY', 'LINGERIE', 'LADIESWEAR','PERSONAL CARE','CELEBRATION','MAGAZINES','BOOKS', 'BABY CARE'], 'LifeStyle', inplace = True)\n",
    "df['family'].replace(['HOME APPLIANCES','HOME AND KITCHEN I', 'HOME AND KITCHEN II','HOME CARE','SCHOOL AND OFFICE SUPPLIES'], 'Home', inplace=True)\n",
    "df['family'].replace([ 'GROCERY II', 'PET SUPPLIES','SEAFOOD','LIQUOR,WINE,BEER'], 'Food', inplace=True)\n",
    "df['family'].replace(['DELI', 'EGGS'], 'Daily', inplace=True)"
   ]
  },
  {
   "cell_type": "code",
   "execution_count": 19,
   "id": "0f8a656c",
   "metadata": {},
   "outputs": [],
   "source": [
    "\n",
    "train['family'].replace(['AUTOMOTIVE', 'HARDWARE', 'LAWN AND GARDEN', 'PLAYERS AND ELECTRONICS'], 'Tools', inplace = True)\n",
    "train['family'].replace(['BEAUTY', 'LINGERIE', 'LADIESWEAR','PERSONAL CARE','CELEBRATION','MAGAZINES','BOOKS', 'BABY CARE'], 'LifeStyle', inplace = True)\n",
    "train['family'].replace(['HOME APPLIANCES','HOME AND KITCHEN I', 'HOME AND KITCHEN II','HOME CARE','SCHOOL AND OFFICE SUPPLIES'], 'Home', inplace=True)\n",
    "train['family'].replace([ 'GROCERY II', 'PET SUPPLIES','SEAFOOD','LIQUOR,WINE,BEER'], 'Food', inplace=True)\n",
    "train['family'].replace(['DELI', 'EGGS'], 'Daily', inplace=True)\n",
    "\n",
    "test['family'].replace(['AUTOMOTIVE', 'HARDWARE', 'LAWN AND GARDEN', 'PLAYERS AND ELECTRONICS'], 'Tools', inplace = True)\n",
    "test['family'].replace(['BEAUTY', 'LINGERIE', 'LADIESWEAR','PERSONAL CARE','CELEBRATION','MAGAZINES','BOOKS', 'BABY CARE'], 'LifeStyle', inplace = True)\n",
    "test['family'].replace(['HOME APPLIANCES','HOME AND KITCHEN I', 'HOME AND KITCHEN II','HOME CARE','SCHOOL AND OFFICE SUPPLIES'], 'Home', inplace=True)\n",
    "test['family'].replace([ 'GROCERY II', 'PET SUPPLIES','SEAFOOD','LIQUOR,WINE,BEER'], 'Food', inplace=True)\n",
    "test['family'].replace(['DELI', 'EGGS'], 'Daily', inplace=True)"
   ]
  },
  {
   "cell_type": "code",
   "execution_count": 20,
   "id": "bdcfe4a7",
   "metadata": {},
   "outputs": [
    {
     "data": {
      "text/plain": [
       "<AxesSubplot:xlabel='sales', ylabel='family'>"
      ]
     },
     "execution_count": 20,
     "metadata": {},
     "output_type": "execute_result"
    },
    {
     "data": {
      "image/png": "[encoded data removed]",
      "text/plain": [
       "<Figure size 1800x1080 with 1 Axes>"
      ]
     },
     "metadata": {
      "needs_background": "light"
     },
     "output_type": "display_data"
    }
   ],
   "source": [
    "#Plotting the sales using bar-plot w.r.t to 'family' categories.\n",
    "\n",
    "d=df.groupby('family')['sales'].mean().sort_values(ascending=False)\n",
    "d=pd.DataFrame(d)\n",
    "df.sales= pd.to_numeric(df.sales, errors='coerce')\n",
    "ax,f=plt.subplots(figsize=(25,15))\n",
    "sns.barplot(x='sales',y=d.index,data=d,ax=None,ci=None)"
   ]
  },
  {
   "cell_type": "code",
   "execution_count": 21,
   "id": "85090646",
   "metadata": {},
   "outputs": [
    {
     "data": {
      "text/plain": [
       "<AxesSubplot:xlabel='store_nbr', ylabel='sales'>"
      ]
     },
     "execution_count": 21,
     "metadata": {},
     "output_type": "execute_result"
    },
    {
     "data": {
      "image/png": "[encoded data removed]",
      "text/plain": [
       "<Figure size 1800x1080 with 1 Axes>"
      ]
     },
     "metadata": {
      "needs_background": "light"
     },
     "output_type": "display_data"
    }
   ],
   "source": [
    "\n",
    "s=df.groupby('store_nbr')['sales'].mean().sort_values(ascending=False)\n",
    "s=pd.DataFrame(s)\n",
    "ax,f=plt.subplots(figsize=(25,15))\n",
    "sns.barplot(x=s.index,y='sales',data=s,ax=None,ci=None,order=s.index)"
   ]
  },
  {
   "cell_type": "code",
   "execution_count": 22,
   "id": "bde34618",
   "metadata": {},
   "outputs": [
    {
     "data": {
      "text/plain": [
       "city_state        store_nbr\n",
       "Guayaquil_Guayas  32           6402\n",
       "Quito_Pichincha   44           6402\n",
       "                  45           6402\n",
       "                  47           6402\n",
       "Guayaquil_Guayas  30           6303\n",
       "dtype: int64"
      ]
     },
     "execution_count": 22,
     "metadata": {},
     "output_type": "execute_result"
    }
   ],
   "source": [
    "\n",
    "df['city_state']=df['city']+\"_\"+df['state']\n",
    "df['type_locale']=df['type_y']+\"_\"+\"locale\"\n",
    "\n",
    "city_state=df[(df['store_nbr']==44)|(df['store_nbr']==45)|(df['store_nbr']==47)|(df['store_nbr']==30)|(df['store_nbr']==32)][['city_state','store_nbr']]\n",
    "city_state.value_counts()"
   ]
  },
  {
   "cell_type": "code",
   "execution_count": 23,
   "id": "bcf00bf8",
   "metadata": {},
   "outputs": [
    {
     "data": {
      "text/plain": [
       "<AxesSubplot:xlabel='sales', ylabel='city_state'>"
      ]
     },
     "execution_count": 23,
     "metadata": {},
     "output_type": "execute_result"
    },
    {
     "data": {
      "image/png": "[encoded data removed]",
      "text/plain": [
       "<Figure size 2160x1440 with 1 Axes>"
      ]
     },
     "metadata": {
      "needs_background": "light"
     },
     "output_type": "display_data"
    }
   ],
   "source": [
    "c=df.groupby(['city_state'])['sales'].mean().sort_values(ascending=False)\n",
    "c=pd.DataFrame(c)\n",
    "ax,f=plt.subplots(figsize=(30,20))\n",
    "sns.barplot(x='sales',y=c.index,data=c,ax=None,ci=None)"
   ]
  },
  {
   "cell_type": "code",
   "execution_count": 24,
   "id": "9fb757e0",
   "metadata": {},
   "outputs": [
    {
     "data": {
      "text/plain": [
       "<AxesSubplot:ylabel='sales'>"
      ]
     },
     "execution_count": 24,
     "metadata": {},
     "output_type": "execute_result"
    },
    {
     "data": {
      "image/png": "[encoded data removed]",
      "text/plain": [
       "<Figure size 1440x720 with 1 Axes>"
      ]
     },
     "metadata": {},
     "output_type": "display_data"
    }
   ],
   "source": [
    "f,ax=plt.subplots(figsize=(20,10))\n",
    "g=df.groupby(['type_locale'])['sales'].mean()\n",
    "\n",
    "g.plot.pie(autopct='%1.1f%%',ax=None)"
   ]
  },
  {
   "cell_type": "code",
   "execution_count": 25,
   "id": "f441d771",
   "metadata": {},
   "outputs": [],
   "source": [
    "\n",
    "from sklearn.model_selection import train_test_split\n",
    "\n",
    "X_train, X_test, y_train, y_test = train_test_split(train.loc[:, train.columns != 'sales'], train['sales'], test_size=0.33, random_state=42)"
   ]
  },
  {
   "cell_type": "code",
   "execution_count": 26,
   "id": "96d629ef",
   "metadata": {},
   "outputs": [
    {
     "data": {
      "text/html": [
       "<div>\n",
       "<style scoped>\n",
       "    .dataframe tbody tr th:only-of-type {\n",
       "        vertical-align: middle;\n",
       "    }\n",
       "\n",
       "    .dataframe tbody tr th {\n",
       "        vertical-align: top;\n",
       "    }\n",
       "\n",
       "    .dataframe thead th {\n",
       "        text-align: right;\n",
       "    }\n",
       "</style>\n",
       "<table border=\"1\" class=\"dataframe\">\n",
       "  <thead>\n",
       "    <tr style=\"text-align: right;\">\n",
       "      <th></th>\n",
       "      <th>id</th>\n",
       "      <th>date</th>\n",
       "      <th>store_nbr</th>\n",
       "      <th>family</th>\n",
       "      <th>onpromotion</th>\n",
       "    </tr>\n",
       "  </thead>\n",
       "  <tbody>\n",
       "    <tr>\n",
       "      <th>386049</th>\n",
       "      <td>386049</td>\n",
       "      <td>2013-08-05</td>\n",
       "      <td>40</td>\n",
       "      <td>Home</td>\n",
       "      <td>0</td>\n",
       "    </tr>\n",
       "    <tr>\n",
       "      <th>370005</th>\n",
       "      <td>370005</td>\n",
       "      <td>2013-07-27</td>\n",
       "      <td>40</td>\n",
       "      <td>Daily</td>\n",
       "      <td>0</td>\n",
       "    </tr>\n",
       "    <tr>\n",
       "      <th>1106752</th>\n",
       "      <td>1106752</td>\n",
       "      <td>2014-09-15</td>\n",
       "      <td>12</td>\n",
       "      <td>Home</td>\n",
       "      <td>1</td>\n",
       "    </tr>\n",
       "    <tr>\n",
       "      <th>459265</th>\n",
       "      <td>459265</td>\n",
       "      <td>2013-09-15</td>\n",
       "      <td>45</td>\n",
       "      <td>LifeStyle</td>\n",
       "      <td>0</td>\n",
       "    </tr>\n",
       "    <tr>\n",
       "      <th>2849710</th>\n",
       "      <td>2849710</td>\n",
       "      <td>2017-05-23</td>\n",
       "      <td>17</td>\n",
       "      <td>POULTRY</td>\n",
       "      <td>0</td>\n",
       "    </tr>\n",
       "    <tr>\n",
       "      <th>...</th>\n",
       "      <td>...</td>\n",
       "      <td>...</td>\n",
       "      <td>...</td>\n",
       "      <td>...</td>\n",
       "      <td>...</td>\n",
       "    </tr>\n",
       "    <tr>\n",
       "      <th>1692743</th>\n",
       "      <td>1692743</td>\n",
       "      <td>2015-08-10</td>\n",
       "      <td>54</td>\n",
       "      <td>DAIRY</td>\n",
       "      <td>0</td>\n",
       "    </tr>\n",
       "    <tr>\n",
       "      <th>2356330</th>\n",
       "      <td>2356330</td>\n",
       "      <td>2016-08-18</td>\n",
       "      <td>23</td>\n",
       "      <td>Home</td>\n",
       "      <td>0</td>\n",
       "    </tr>\n",
       "    <tr>\n",
       "      <th>2229084</th>\n",
       "      <td>2229084</td>\n",
       "      <td>2016-06-07</td>\n",
       "      <td>53</td>\n",
       "      <td>Tools</td>\n",
       "      <td>0</td>\n",
       "    </tr>\n",
       "    <tr>\n",
       "      <th>2768307</th>\n",
       "      <td>2768307</td>\n",
       "      <td>2017-04-07</td>\n",
       "      <td>33</td>\n",
       "      <td>BEVERAGES</td>\n",
       "      <td>15</td>\n",
       "    </tr>\n",
       "    <tr>\n",
       "      <th>2219110</th>\n",
       "      <td>2219110</td>\n",
       "      <td>2016-06-02</td>\n",
       "      <td>23</td>\n",
       "      <td>LifeStyle</td>\n",
       "      <td>2</td>\n",
       "    </tr>\n",
       "  </tbody>\n",
       "</table>\n",
       "<p>2010594 rows × 5 columns</p>\n",
       "</div>"
      ],
      "text/plain": [
       "              id        date  store_nbr     family  onpromotion\n",
       "386049    386049  2013-08-05         40       Home            0\n",
       "370005    370005  2013-07-27         40      Daily            0\n",
       "1106752  1106752  2014-09-15         12       Home            1\n",
       "459265    459265  2013-09-15         45  LifeStyle            0\n",
       "2849710  2849710  2017-05-23         17    POULTRY            0\n",
       "...          ...         ...        ...        ...          ...\n",
       "1692743  1692743  2015-08-10         54      DAIRY            0\n",
       "2356330  2356330  2016-08-18         23       Home            0\n",
       "2229084  2229084  2016-06-07         53      Tools            0\n",
       "2768307  2768307  2017-04-07         33  BEVERAGES           15\n",
       "2219110  2219110  2016-06-02         23  LifeStyle            2\n",
       "\n",
       "[2010594 rows x 5 columns]"
      ]
     },
     "execution_count": 26,
     "metadata": {},
     "output_type": "execute_result"
    }
   ],
   "source": [
    "X_train"
   ]
  },
  {
   "cell_type": "code",
   "execution_count": 27,
   "id": "57a372c2",
   "metadata": {},
   "outputs": [
    {
     "name": "stdout",
     "output_type": "stream",
     "text": [
      "[10:49:12] INFO: C:/Users/Administrator/workspace/xgboost-win64_release_1.6.0/src/tree/updater_prune.cc:101: tree pruning end, 15966 extra nodes, 0 pruned nodes, max_depth=20\n",
      "[10:51:07] INFO: C:/Users/Administrator/workspace/xgboost-win64_release_1.6.0/src/tree/updater_prune.cc:101: tree pruning end, 18730 extra nodes, 0 pruned nodes, max_depth=20\n",
      "[10:52:58] INFO: C:/Users/Administrator/workspace/xgboost-win64_release_1.6.0/src/tree/updater_prune.cc:101: tree pruning end, 18270 extra nodes, 0 pruned nodes, max_depth=20\n",
      "[10:54:31] INFO: C:/Users/Administrator/workspace/xgboost-win64_release_1.6.0/src/tree/updater_prune.cc:101: tree pruning end, 15756 extra nodes, 0 pruned nodes, max_depth=20\n",
      "[10:55:43] INFO: C:/Users/Administrator/workspace/xgboost-win64_release_1.6.0/src/tree/updater_prune.cc:101: tree pruning end, 12904 extra nodes, 0 pruned nodes, max_depth=20\n",
      "[10:56:28] INFO: C:/Users/Administrator/workspace/xgboost-win64_release_1.6.0/src/tree/updater_prune.cc:101: tree pruning end, 10412 extra nodes, 0 pruned nodes, max_depth=20\n",
      "[10:56:59] INFO: C:/Users/Administrator/workspace/xgboost-win64_release_1.6.0/src/tree/updater_prune.cc:101: tree pruning end, 7772 extra nodes, 0 pruned nodes, max_depth=20\n",
      "[10:57:24] INFO: C:/Users/Administrator/workspace/xgboost-win64_release_1.6.0/src/tree/updater_prune.cc:101: tree pruning end, 6274 extra nodes, 0 pruned nodes, max_depth=20\n",
      "[10:57:47] INFO: C:/Users/Administrator/workspace/xgboost-win64_release_1.6.0/src/tree/updater_prune.cc:101: tree pruning end, 5370 extra nodes, 0 pruned nodes, max_depth=20\n",
      "[10:58:07] INFO: C:/Users/Administrator/workspace/xgboost-win64_release_1.6.0/src/tree/updater_prune.cc:101: tree pruning end, 4680 extra nodes, 0 pruned nodes, max_depth=20\n"
     ]
    }
   ],
   "source": [
    "from xgboost import XGBRegressor\n",
    "from sklearn.compose import ColumnTransformer\n",
    "from sklearn.preprocessing import OneHotEncoder\n",
    "\n",
    "# one-hot encode the categorical features\n",
    "cat_attribs = ['id','date','family']\n",
    "full_pipeline = ColumnTransformer([('cat', OneHotEncoder(handle_unknown='ignore'), cat_attribs)], remainder='passthrough')\n",
    "\n",
    "encoder = full_pipeline.fit(X_train)\n",
    "X_train = encoder.transform(X_train)\n",
    "X_test = encoder.transform(X_test)\n",
    "test=encoder.transform(test)\n",
    "# train the model\n",
    "model = XGBRegressor(n_estimators=10, max_depth=20, verbosity=2)\n",
    "model.fit(X_train, y_train)\n",
    "\n",
    "# extract the training set predictions\n",
    "model.predict(X_train)\n",
    "# array([7.0887003, 3.7923286, 7.0887003], dtype=float32)\n",
    "\n",
    "# extract the test set predictions\n",
    "predictions = model.predict(X_test)\n",
    "# array([7.0887003, 7.0887003], dtype=float32)"
   ]
  },
  {
   "cell_type": "code",
   "execution_count": 28,
   "id": "aaf853ff",
   "metadata": {},
   "outputs": [
    {
     "data": {
      "text/plain": [
       "2483653    2576.000000\n",
       "2761877       0.000000\n",
       "1217988     357.354000\n",
       "1231938       5.000000\n",
       "528175        0.000000\n",
       "              ...     \n",
       "2791862      83.216000\n",
       "1691971      55.404003\n",
       "1611776       0.000000\n",
       "1963121       0.000000\n",
       "449204       93.000000\n",
       "Name: sales, Length: 990294, dtype: float64"
      ]
     },
     "execution_count": 28,
     "metadata": {},
     "output_type": "execute_result"
    }
   ],
   "source": [
    "y_test"
   ]
  },
  {
   "cell_type": "code",
   "execution_count": 29,
   "id": "133fbad6",
   "metadata": {},
   "outputs": [],
   "source": [
    "test1=encoder.transform(test1)"
   ]
  },
  {
   "cell_type": "code",
   "execution_count": 30,
   "id": "53de8fb1",
   "metadata": {},
   "outputs": [
    {
     "data": {
      "text/html": [
       "<div>\n",
       "<style scoped>\n",
       "    .dataframe tbody tr th:only-of-type {\n",
       "        vertical-align: middle;\n",
       "    }\n",
       "\n",
       "    .dataframe tbody tr th {\n",
       "        vertical-align: top;\n",
       "    }\n",
       "\n",
       "    .dataframe thead th {\n",
       "        text-align: right;\n",
       "    }\n",
       "</style>\n",
       "<table border=\"1\" class=\"dataframe\">\n",
       "  <thead>\n",
       "    <tr style=\"text-align: right;\">\n",
       "      <th></th>\n",
       "      <th>sales</th>\n",
       "    </tr>\n",
       "  </thead>\n",
       "  <tbody>\n",
       "    <tr>\n",
       "      <th>0</th>\n",
       "      <td>2532.201416</td>\n",
       "    </tr>\n",
       "    <tr>\n",
       "      <th>1</th>\n",
       "      <td>1.370739</td>\n",
       "    </tr>\n",
       "    <tr>\n",
       "      <th>2</th>\n",
       "      <td>180.878098</td>\n",
       "    </tr>\n",
       "    <tr>\n",
       "      <th>3</th>\n",
       "      <td>16.774099</td>\n",
       "    </tr>\n",
       "    <tr>\n",
       "      <th>4</th>\n",
       "      <td>70.013954</td>\n",
       "    </tr>\n",
       "    <tr>\n",
       "      <th>...</th>\n",
       "      <td>...</td>\n",
       "    </tr>\n",
       "    <tr>\n",
       "      <th>990289</th>\n",
       "      <td>51.198730</td>\n",
       "    </tr>\n",
       "    <tr>\n",
       "      <th>990290</th>\n",
       "      <td>69.653320</td>\n",
       "    </tr>\n",
       "    <tr>\n",
       "      <th>990291</th>\n",
       "      <td>16.774099</td>\n",
       "    </tr>\n",
       "    <tr>\n",
       "      <th>990292</th>\n",
       "      <td>20.964148</td>\n",
       "    </tr>\n",
       "    <tr>\n",
       "      <th>990293</th>\n",
       "      <td>248.448242</td>\n",
       "    </tr>\n",
       "  </tbody>\n",
       "</table>\n",
       "<p>990294 rows × 1 columns</p>\n",
       "</div>"
      ],
      "text/plain": [
       "              sales\n",
       "0       2532.201416\n",
       "1          1.370739\n",
       "2        180.878098\n",
       "3         16.774099\n",
       "4         70.013954\n",
       "...             ...\n",
       "990289    51.198730\n",
       "990290    69.653320\n",
       "990291    16.774099\n",
       "990292    20.964148\n",
       "990293   248.448242\n",
       "\n",
       "[990294 rows x 1 columns]"
      ]
     },
     "execution_count": 30,
     "metadata": {},
     "output_type": "execute_result"
    }
   ],
   "source": [
    "pred1=model.predict(X_test)\n",
    "pred=pd.DataFrame(pred1)\n",
    "pred.rename(columns={0:'sales'},inplace=True)\n",
    "#pred.index=test1['id']\n",
    "pred"
   ]
  },
  {
   "cell_type": "code",
   "execution_count": 32,
   "id": "a83c66c0",
   "metadata": {},
   "outputs": [],
   "source": [
    "from sklearn.metrics import mean_squared_error\n",
    "from numpy import sqrt \n",
    "rms = sqrt(mean_squared_error(y_test, pred1))"
   ]
  },
  {
   "cell_type": "code",
   "execution_count": 33,
   "id": "b312c081",
   "metadata": {},
   "outputs": [
    {
     "data": {
      "text/plain": [
       "434.4013210865008"
      ]
     },
     "execution_count": 33,
     "metadata": {},
     "output_type": "execute_result"
    }
   ],
   "source": [
    "rms"
   ]
  },
  {
   "cell_type": "code",
   "execution_count": 34,
   "id": "29854df5",
   "metadata": {},
   "outputs": [],
   "source": [
    "pred[\"Act\"] = y_test.values"
   ]
  },
  {
   "cell_type": "code",
   "execution_count": 35,
   "id": "ac0c729a",
   "metadata": {},
   "outputs": [
    {
     "data": {
      "text/html": [
       "<div>\n",
       "<style scoped>\n",
       "    .dataframe tbody tr th:only-of-type {\n",
       "        vertical-align: middle;\n",
       "    }\n",
       "\n",
       "    .dataframe tbody tr th {\n",
       "        vertical-align: top;\n",
       "    }\n",
       "\n",
       "    .dataframe thead th {\n",
       "        text-align: right;\n",
       "    }\n",
       "</style>\n",
       "<table border=\"1\" class=\"dataframe\">\n",
       "  <thead>\n",
       "    <tr style=\"text-align: right;\">\n",
       "      <th></th>\n",
       "      <th>sales</th>\n",
       "      <th>Act</th>\n",
       "    </tr>\n",
       "  </thead>\n",
       "  <tbody>\n",
       "    <tr>\n",
       "      <th>0</th>\n",
       "      <td>2532.201416</td>\n",
       "      <td>2576.000000</td>\n",
       "    </tr>\n",
       "    <tr>\n",
       "      <th>1</th>\n",
       "      <td>1.370739</td>\n",
       "      <td>0.000000</td>\n",
       "    </tr>\n",
       "    <tr>\n",
       "      <th>2</th>\n",
       "      <td>180.878098</td>\n",
       "      <td>357.354000</td>\n",
       "    </tr>\n",
       "    <tr>\n",
       "      <th>3</th>\n",
       "      <td>16.774099</td>\n",
       "      <td>5.000000</td>\n",
       "    </tr>\n",
       "    <tr>\n",
       "      <th>4</th>\n",
       "      <td>70.013954</td>\n",
       "      <td>0.000000</td>\n",
       "    </tr>\n",
       "    <tr>\n",
       "      <th>...</th>\n",
       "      <td>...</td>\n",
       "      <td>...</td>\n",
       "    </tr>\n",
       "    <tr>\n",
       "      <th>990289</th>\n",
       "      <td>51.198730</td>\n",
       "      <td>83.216000</td>\n",
       "    </tr>\n",
       "    <tr>\n",
       "      <th>990290</th>\n",
       "      <td>69.653320</td>\n",
       "      <td>55.404003</td>\n",
       "    </tr>\n",
       "    <tr>\n",
       "      <th>990291</th>\n",
       "      <td>16.774099</td>\n",
       "      <td>0.000000</td>\n",
       "    </tr>\n",
       "    <tr>\n",
       "      <th>990292</th>\n",
       "      <td>20.964148</td>\n",
       "      <td>0.000000</td>\n",
       "    </tr>\n",
       "    <tr>\n",
       "      <th>990293</th>\n",
       "      <td>248.448242</td>\n",
       "      <td>93.000000</td>\n",
       "    </tr>\n",
       "  </tbody>\n",
       "</table>\n",
       "<p>990294 rows × 2 columns</p>\n",
       "</div>"
      ],
      "text/plain": [
       "              sales          Act\n",
       "0       2532.201416  2576.000000\n",
       "1          1.370739     0.000000\n",
       "2        180.878098   357.354000\n",
       "3         16.774099     5.000000\n",
       "4         70.013954     0.000000\n",
       "...             ...          ...\n",
       "990289    51.198730    83.216000\n",
       "990290    69.653320    55.404003\n",
       "990291    16.774099     0.000000\n",
       "990292    20.964148     0.000000\n",
       "990293   248.448242    93.000000\n",
       "\n",
       "[990294 rows x 2 columns]"
      ]
     },
     "execution_count": 35,
     "metadata": {},
     "output_type": "execute_result"
    }
   ],
   "source": [
    "pred"
   ]
  },
  {
   "cell_type": "code",
   "execution_count": 36,
   "id": "326ebe26",
   "metadata": {},
   "outputs": [
    {
     "data": {
      "text/plain": [
       "<990294x2012295 sparse matrix of type '<class 'numpy.float64'>'\n",
       "\twith 3172917 stored elements in Compressed Sparse Row format>"
      ]
     },
     "execution_count": 36,
     "metadata": {},
     "output_type": "execute_result"
    }
   ],
   "source": [
    "X_test"
   ]
  },
  {
   "cell_type": "code",
   "execution_count": 37,
   "id": "c20c6db2",
   "metadata": {},
   "outputs": [
    {
     "data": {
      "image/png": "[encoded data removed]",
      "text/plain": [
       "<Figure size 1080x360 with 1 Axes>"
      ]
     },
     "metadata": {
      "needs_background": "light"
     },
     "output_type": "display_data"
    }
   ],
   "source": [
    "f, ax = plt.subplots(1)\n",
    "f.set_figheight(5)\n",
    "f.set_figwidth(15)\n",
    "#df_all = pd.concat([pred, X_test], sort=False)\n",
    "_ = pred[[\"sales\",\"Act\"]][0:30].plot(ax=ax, style=[\"-\",\"o\"])\n",
    "#ax.set_xbound(lower=’2019–09–01', upper=’2019–10–01')\n",
    "plot = plt.suptitle(\"Jan 2019 onwards Forecast vs Actuals\")"
   ]
  },
  {
   "cell_type": "code",
   "execution_count": null,
   "id": "9e5f04fc",
   "metadata": {},
   "outputs": [],
   "source": []
  },
  {
   "cell_type": "code",
   "execution_count": null,
   "id": "83a5dca2",
   "metadata": {},
   "outputs": [],
   "source": []
  },
  {
   "cell_type": "code",
   "execution_count": null,
   "id": "cd19c4e4",
   "metadata": {},
   "outputs": [],
   "source": [
    "#Arima\n",
    "# https://www.kaggle.com/code/rinichristy/time-series-forecast-store-sales"
   ]
  },
  {
   "cell_type": "code",
   "execution_count": 7,
   "id": "6d9bcde3",
   "metadata": {},
   "outputs": [],
   "source": [
    "from sklearn.model_selection import train_test_split\n"
   ]
  },
  {
   "cell_type": "code",
   "execution_count": 3,
   "id": "f850f901",
   "metadata": {},
   "outputs": [],
   "source": [
    "holidays=pd.read_csv('holidays_events.csv')\n",
    "oil=pd.read_csv('oil.csv')\n",
    "stores=pd.read_csv('stores.csv')\n",
    "test=pd.read_csv('test.csv')\n",
    "train=pd.read_csv('train.csv')\n",
    "transactions=pd.read_csv('transactions.csv')"
   ]
  },
  {
   "cell_type": "code",
   "execution_count": 4,
   "id": "df3e7b53",
   "metadata": {},
   "outputs": [],
   "source": [
    "from random import sample\n",
    "\n",
    "train = train.sample(n=100000)"
   ]
  },
  {
   "cell_type": "code",
   "execution_count": 8,
   "id": "8e097b6b",
   "metadata": {},
   "outputs": [],
   "source": [
    "train, val = train_test_split(train, test_size=0.2, random_state=1)"
   ]
  },
  {
   "cell_type": "code",
   "execution_count": 9,
   "id": "5941d94e",
   "metadata": {},
   "outputs": [
    {
     "data": {
      "text/html": [
       "<div>\n",
       "<style scoped>\n",
       "    .dataframe tbody tr th:only-of-type {\n",
       "        vertical-align: middle;\n",
       "    }\n",
       "\n",
       "    .dataframe tbody tr th {\n",
       "        vertical-align: top;\n",
       "    }\n",
       "\n",
       "    .dataframe thead th {\n",
       "        text-align: right;\n",
       "    }\n",
       "</style>\n",
       "<table border=\"1\" class=\"dataframe\">\n",
       "  <thead>\n",
       "    <tr style=\"text-align: right;\">\n",
       "      <th></th>\n",
       "      <th>id</th>\n",
       "      <th>date</th>\n",
       "      <th>store_nbr</th>\n",
       "      <th>family</th>\n",
       "      <th>sales</th>\n",
       "      <th>onpromotion</th>\n",
       "    </tr>\n",
       "  </thead>\n",
       "  <tbody>\n",
       "    <tr>\n",
       "      <th>1331197</th>\n",
       "      <td>1331197</td>\n",
       "      <td>2015-01-20</td>\n",
       "      <td>10</td>\n",
       "      <td>EGGS</td>\n",
       "      <td>66.000</td>\n",
       "      <td>0</td>\n",
       "    </tr>\n",
       "    <tr>\n",
       "      <th>772580</th>\n",
       "      <td>772580</td>\n",
       "      <td>2014-03-11</td>\n",
       "      <td>36</td>\n",
       "      <td>HOME APPLIANCES</td>\n",
       "      <td>0.000</td>\n",
       "      <td>0</td>\n",
       "    </tr>\n",
       "    <tr>\n",
       "      <th>1570919</th>\n",
       "      <td>1570919</td>\n",
       "      <td>2015-06-03</td>\n",
       "      <td>36</td>\n",
       "      <td>LAWN AND GARDEN</td>\n",
       "      <td>7.000</td>\n",
       "      <td>0</td>\n",
       "    </tr>\n",
       "    <tr>\n",
       "      <th>1933557</th>\n",
       "      <td>1933557</td>\n",
       "      <td>2015-12-24</td>\n",
       "      <td>11</td>\n",
       "      <td>LINGERIE</td>\n",
       "      <td>5.000</td>\n",
       "      <td>0</td>\n",
       "    </tr>\n",
       "    <tr>\n",
       "      <th>2877097</th>\n",
       "      <td>2877097</td>\n",
       "      <td>2017-06-07</td>\n",
       "      <td>35</td>\n",
       "      <td>PERSONAL CARE</td>\n",
       "      <td>54.000</td>\n",
       "      <td>2</td>\n",
       "    </tr>\n",
       "    <tr>\n",
       "      <th>...</th>\n",
       "      <td>...</td>\n",
       "      <td>...</td>\n",
       "      <td>...</td>\n",
       "      <td>...</td>\n",
       "      <td>...</td>\n",
       "      <td>...</td>\n",
       "    </tr>\n",
       "    <tr>\n",
       "      <th>79251</th>\n",
       "      <td>79251</td>\n",
       "      <td>2013-02-14</td>\n",
       "      <td>32</td>\n",
       "      <td>HOME CARE</td>\n",
       "      <td>0.000</td>\n",
       "      <td>0</td>\n",
       "    </tr>\n",
       "    <tr>\n",
       "      <th>1197938</th>\n",
       "      <td>1197938</td>\n",
       "      <td>2014-11-05</td>\n",
       "      <td>21</td>\n",
       "      <td>BREAD/BAKERY</td>\n",
       "      <td>0.000</td>\n",
       "      <td>0</td>\n",
       "    </tr>\n",
       "    <tr>\n",
       "      <th>2120433</th>\n",
       "      <td>2120433</td>\n",
       "      <td>2016-04-07</td>\n",
       "      <td>54</td>\n",
       "      <td>HOME CARE</td>\n",
       "      <td>147.000</td>\n",
       "      <td>0</td>\n",
       "    </tr>\n",
       "    <tr>\n",
       "      <th>2073762</th>\n",
       "      <td>2073762</td>\n",
       "      <td>2016-03-12</td>\n",
       "      <td>45</td>\n",
       "      <td>DELI</td>\n",
       "      <td>709.196</td>\n",
       "      <td>0</td>\n",
       "    </tr>\n",
       "    <tr>\n",
       "      <th>159838</th>\n",
       "      <td>159838</td>\n",
       "      <td>2013-03-31</td>\n",
       "      <td>43</td>\n",
       "      <td>LADIESWEAR</td>\n",
       "      <td>0.000</td>\n",
       "      <td>0</td>\n",
       "    </tr>\n",
       "  </tbody>\n",
       "</table>\n",
       "<p>20000 rows × 6 columns</p>\n",
       "</div>"
      ],
      "text/plain": [
       "              id        date  store_nbr           family    sales  onpromotion\n",
       "1331197  1331197  2015-01-20         10             EGGS   66.000            0\n",
       "772580    772580  2014-03-11         36  HOME APPLIANCES    0.000            0\n",
       "1570919  1570919  2015-06-03         36  LAWN AND GARDEN    7.000            0\n",
       "1933557  1933557  2015-12-24         11         LINGERIE    5.000            0\n",
       "2877097  2877097  2017-06-07         35    PERSONAL CARE   54.000            2\n",
       "...          ...         ...        ...              ...      ...          ...\n",
       "79251      79251  2013-02-14         32        HOME CARE    0.000            0\n",
       "1197938  1197938  2014-11-05         21     BREAD/BAKERY    0.000            0\n",
       "2120433  2120433  2016-04-07         54        HOME CARE  147.000            0\n",
       "2073762  2073762  2016-03-12         45             DELI  709.196            0\n",
       "159838    159838  2013-03-31         43       LADIESWEAR    0.000            0\n",
       "\n",
       "[20000 rows x 6 columns]"
      ]
     },
     "execution_count": 9,
     "metadata": {},
     "output_type": "execute_result"
    }
   ],
   "source": [
    "val"
   ]
  },
  {
   "cell_type": "code",
   "execution_count": 10,
   "id": "4dbbe917",
   "metadata": {},
   "outputs": [],
   "source": [
    "train['date'] = pd.to_datetime(train['date'])\n",
    "train['date'] = train.date.dt.to_period('D')\n",
    "val['date'] = pd.to_datetime(val['date'])\n",
    "val['date'] = val.date.dt.to_period('D')"
   ]
  },
  {
   "cell_type": "code",
   "execution_count": 11,
   "id": "eacdc189",
   "metadata": {},
   "outputs": [
    {
     "data": {
      "text/plain": [
       "(                                     id  sales  onpromotion\n",
       " store_nbr family     date                                  \n",
       " 1         AUTOMOTIVE 2013-01-29   49896    2.0            0\n",
       "                      2013-02-15   80190    0.0            0\n",
       "                      2013-03-17  133650    1.0            0\n",
       "                      2013-05-16  240570    3.0            0\n",
       "                      2013-05-29  263736    3.0            0,\n",
       "                                       id  sales  onpromotion\n",
       " store_nbr family     date                                   \n",
       " 1         AUTOMOTIVE 2013-06-21   304722    5.0            0\n",
       "                      2013-12-19   627264    0.0            0\n",
       "                      2014-03-13   775170    2.0            0\n",
       "                      2014-11-19  1222452    1.0            0\n",
       "                      2015-02-20  1386396    0.0            0)"
      ]
     },
     "execution_count": 11,
     "metadata": {},
     "output_type": "execute_result"
    }
   ],
   "source": [
    "train = train.set_index(['store_nbr', 'family', 'date']).sort_index()\n",
    "val = val.set_index(['store_nbr', 'family', 'date']).sort_index()\n",
    "train.head(), val.head()"
   ]
  },
  {
   "cell_type": "code",
   "execution_count": 12,
   "id": "2763d71c",
   "metadata": {},
   "outputs": [
    {
     "data": {
      "text/html": [
       "<div>\n",
       "<style scoped>\n",
       "    .dataframe tbody tr th:only-of-type {\n",
       "        vertical-align: middle;\n",
       "    }\n",
       "\n",
       "    .dataframe tbody tr th {\n",
       "        vertical-align: top;\n",
       "    }\n",
       "\n",
       "    .dataframe thead th {\n",
       "        text-align: right;\n",
       "    }\n",
       "</style>\n",
       "<table border=\"1\" class=\"dataframe\">\n",
       "  <thead>\n",
       "    <tr style=\"text-align: right;\">\n",
       "      <th></th>\n",
       "      <th>id</th>\n",
       "      <th>sales</th>\n",
       "      <th>onpromotion</th>\n",
       "    </tr>\n",
       "    <tr>\n",
       "      <th>date</th>\n",
       "      <th></th>\n",
       "      <th></th>\n",
       "      <th></th>\n",
       "    </tr>\n",
       "  </thead>\n",
       "  <tbody>\n",
       "    <tr>\n",
       "      <th>2017-01-01</th>\n",
       "      <td>106484365</td>\n",
       "      <td>17.000000</td>\n",
       "      <td>0</td>\n",
       "    </tr>\n",
       "    <tr>\n",
       "      <th>2017-01-02</th>\n",
       "      <td>116959512</td>\n",
       "      <td>60228.966000</td>\n",
       "      <td>465</td>\n",
       "    </tr>\n",
       "    <tr>\n",
       "      <th>2017-01-03</th>\n",
       "      <td>132638619</td>\n",
       "      <td>38285.776001</td>\n",
       "      <td>435</td>\n",
       "    </tr>\n",
       "    <tr>\n",
       "      <th>2017-01-04</th>\n",
       "      <td>119720046</td>\n",
       "      <td>42014.920000</td>\n",
       "      <td>924</td>\n",
       "    </tr>\n",
       "    <tr>\n",
       "      <th>2017-01-05</th>\n",
       "      <td>143239544</td>\n",
       "      <td>24669.288000</td>\n",
       "      <td>282</td>\n",
       "    </tr>\n",
       "    <tr>\n",
       "      <th>...</th>\n",
       "      <td>...</td>\n",
       "      <td>...</td>\n",
       "      <td>...</td>\n",
       "    </tr>\n",
       "    <tr>\n",
       "      <th>2017-08-11</th>\n",
       "      <td>116726869</td>\n",
       "      <td>7126.960000</td>\n",
       "      <td>308</td>\n",
       "    </tr>\n",
       "    <tr>\n",
       "      <th>2017-08-12</th>\n",
       "      <td>134759576</td>\n",
       "      <td>16683.186000</td>\n",
       "      <td>153</td>\n",
       "    </tr>\n",
       "    <tr>\n",
       "      <th>2017-08-13</th>\n",
       "      <td>113868200</td>\n",
       "      <td>17381.678000</td>\n",
       "      <td>130</td>\n",
       "    </tr>\n",
       "    <tr>\n",
       "      <th>2017-08-14</th>\n",
       "      <td>128917022</td>\n",
       "      <td>14604.581010</td>\n",
       "      <td>194</td>\n",
       "    </tr>\n",
       "    <tr>\n",
       "      <th>2017-08-15</th>\n",
       "      <td>150002278</td>\n",
       "      <td>14289.872000</td>\n",
       "      <td>243</td>\n",
       "    </tr>\n",
       "  </tbody>\n",
       "</table>\n",
       "<p>227 rows × 3 columns</p>\n",
       "</div>"
      ],
      "text/plain": [
       "                   id         sales  onpromotion\n",
       "date                                            \n",
       "2017-01-01  106484365     17.000000            0\n",
       "2017-01-02  116959512  60228.966000          465\n",
       "2017-01-03  132638619  38285.776001          435\n",
       "2017-01-04  119720046  42014.920000          924\n",
       "2017-01-05  143239544  24669.288000          282\n",
       "...               ...           ...          ...\n",
       "2017-08-11  116726869   7126.960000          308\n",
       "2017-08-12  134759576  16683.186000          153\n",
       "2017-08-13  113868200  17381.678000          130\n",
       "2017-08-14  128917022  14604.581010          194\n",
       "2017-08-15  150002278  14289.872000          243\n",
       "\n",
       "[227 rows x 3 columns]"
      ]
     },
     "execution_count": 12,
     "metadata": {},
     "output_type": "execute_result"
    }
   ],
   "source": [
    "Total_sales = train.groupby('date').sum().squeeze().loc['2017']\n",
    "Total_sales"
   ]
  },
  {
   "cell_type": "code",
   "execution_count": 13,
   "id": "522b8e42",
   "metadata": {},
   "outputs": [
    {
     "data": {
      "text/html": [
       "<div>\n",
       "<style scoped>\n",
       "    .dataframe tbody tr th:only-of-type {\n",
       "        vertical-align: middle;\n",
       "    }\n",
       "\n",
       "    .dataframe tbody tr th {\n",
       "        vertical-align: top;\n",
       "    }\n",
       "\n",
       "    .dataframe thead th {\n",
       "        text-align: right;\n",
       "    }\n",
       "</style>\n",
       "<table border=\"1\" class=\"dataframe\">\n",
       "  <thead>\n",
       "    <tr style=\"text-align: right;\">\n",
       "      <th></th>\n",
       "      <th>sales</th>\n",
       "      <th>onpromotion</th>\n",
       "    </tr>\n",
       "    <tr>\n",
       "      <th>date</th>\n",
       "      <th></th>\n",
       "      <th></th>\n",
       "    </tr>\n",
       "  </thead>\n",
       "  <tbody>\n",
       "    <tr>\n",
       "      <th>2017-01-01</th>\n",
       "      <td>0.000</td>\n",
       "      <td>0</td>\n",
       "    </tr>\n",
       "    <tr>\n",
       "      <th>2017-01-02</th>\n",
       "      <td>6616.000</td>\n",
       "      <td>46</td>\n",
       "    </tr>\n",
       "    <tr>\n",
       "      <th>2017-01-03</th>\n",
       "      <td>19663.314</td>\n",
       "      <td>119</td>\n",
       "    </tr>\n",
       "    <tr>\n",
       "      <th>2017-01-04</th>\n",
       "      <td>10887.958</td>\n",
       "      <td>392</td>\n",
       "    </tr>\n",
       "    <tr>\n",
       "      <th>2017-01-05</th>\n",
       "      <td>635.841</td>\n",
       "      <td>22</td>\n",
       "    </tr>\n",
       "    <tr>\n",
       "      <th>...</th>\n",
       "      <td>...</td>\n",
       "      <td>...</td>\n",
       "    </tr>\n",
       "    <tr>\n",
       "      <th>2017-08-11</th>\n",
       "      <td>9684.842</td>\n",
       "      <td>51</td>\n",
       "    </tr>\n",
       "    <tr>\n",
       "      <th>2017-08-12</th>\n",
       "      <td>776.920</td>\n",
       "      <td>7</td>\n",
       "    </tr>\n",
       "    <tr>\n",
       "      <th>2017-08-13</th>\n",
       "      <td>1175.800</td>\n",
       "      <td>3</td>\n",
       "    </tr>\n",
       "    <tr>\n",
       "      <th>2017-08-14</th>\n",
       "      <td>13694.188</td>\n",
       "      <td>154</td>\n",
       "    </tr>\n",
       "    <tr>\n",
       "      <th>2017-08-15</th>\n",
       "      <td>6610.866</td>\n",
       "      <td>258</td>\n",
       "    </tr>\n",
       "  </tbody>\n",
       "</table>\n",
       "<p>227 rows × 2 columns</p>\n",
       "</div>"
      ],
      "text/plain": [
       "                sales  onpromotion\n",
       "date                              \n",
       "2017-01-01      0.000            0\n",
       "2017-01-02   6616.000           46\n",
       "2017-01-03  19663.314          119\n",
       "2017-01-04  10887.958          392\n",
       "2017-01-05    635.841           22\n",
       "...               ...          ...\n",
       "2017-08-11   9684.842           51\n",
       "2017-08-12    776.920            7\n",
       "2017-08-13   1175.800            3\n",
       "2017-08-14  13694.188          154\n",
       "2017-08-15   6610.866          258\n",
       "\n",
       "[227 rows x 2 columns]"
      ]
     },
     "execution_count": 13,
     "metadata": {},
     "output_type": "execute_result"
    }
   ],
   "source": [
    "Total_sales_test = val.drop('id', axis = 1).groupby('date').sum().squeeze().loc['2017']\n",
    "Total_sales_test"
   ]
  },
  {
   "cell_type": "code",
   "execution_count": 14,
   "id": "637b3f27",
   "metadata": {},
   "outputs": [],
   "source": [
    "from sklearn.model_selection import train_test_split\n",
    "\n",
    "X_train, X_test, y_train, y_test = train_test_split(train.loc[:, train.columns != 'sales'], train['sales'], test_size=0.33, random_state=42)"
   ]
  },
  {
   "cell_type": "code",
   "execution_count": 15,
   "id": "5f7ae6f4",
   "metadata": {},
   "outputs": [
    {
     "name": "stdout",
     "output_type": "stream",
     "text": [
      "predicted=23548.442282, expected=22841.594000\n",
      "predicted=23027.177277, expected=38535.554000\n",
      "predicted=26647.680745, expected=15897.574000\n",
      "predicted=28509.311386, expected=18201.540000\n",
      "predicted=24426.808120, expected=21793.029000\n",
      "predicted=22077.646219, expected=16960.497000\n",
      "predicted=24463.902327, expected=35079.422000\n",
      "predicted=24878.641269, expected=24359.282000\n",
      "predicted=22372.288795, expected=11463.434010\n",
      "predicted=21332.425558, expected=12713.221000\n",
      "predicted=18140.887269, expected=20498.971998\n",
      "predicted=20733.545962, expected=32032.906000\n",
      "predicted=25192.626026, expected=55936.281950\n",
      "predicted=26704.453772, expected=41407.281010\n",
      "predicted=28504.884326, expected=28369.974000\n",
      "predicted=27535.426103, expected=21474.776000\n",
      "predicted=27813.233896, expected=29087.408000\n",
      "predicted=35229.740085, expected=17668.339000\n",
      "predicted=36435.825175, expected=60130.689000\n",
      "predicted=34710.650885, expected=18232.887000\n",
      "predicted=32038.488485, expected=20581.915000\n",
      "predicted=25304.283837, expected=23592.935000\n",
      "predicted=23712.961013, expected=7545.540000\n",
      "predicted=28479.514227, expected=11723.761000\n",
      "predicted=27470.805094, expected=13163.992002\n",
      "predicted=15584.612495, expected=10764.828000\n",
      "predicted=16982.059807, expected=40766.406000\n",
      "predicted=18627.754778, expected=35687.671030\n",
      "predicted=21551.782096, expected=21806.272030\n",
      "predicted=21672.056636, expected=46493.459000\n",
      "predicted=22432.220992, expected=19427.835000\n",
      "predicted=28557.386528, expected=30791.725030\n",
      "predicted=33382.172597, expected=20274.906000\n",
      "predicted=27109.797828, expected=35554.889998\n",
      "predicted=30028.726766, expected=5360.707000\n",
      "predicted=29019.131721, expected=8690.937002\n",
      "predicted=17686.349223, expected=46697.779000\n",
      "predicted=23188.458313, expected=19829.983972\n",
      "predicted=28606.389452, expected=19150.176000\n",
      "predicted=23592.289243, expected=10061.632000\n",
      "predicted=12454.107909, expected=29215.902000\n",
      "predicted=22310.938722, expected=20121.757000\n",
      "predicted=27467.888375, expected=12780.002980\n",
      "predicted=19180.858036, expected=8357.730000\n",
      "predicted=14471.322218, expected=10256.785000\n",
      "predicted=14720.565619, expected=25203.899010\n",
      "predicted=19200.503891, expected=30338.271000\n",
      "predicted=19776.267059, expected=17169.930990\n",
      "predicted=17543.297529, expected=16161.325000\n",
      "predicted=15127.413393, expected=17431.689000\n",
      "predicted=17911.931532, expected=27292.686000\n",
      "predicted=23698.699800, expected=22326.500000\n",
      "predicted=23179.416350, expected=7362.063000\n",
      "predicted=17441.321907, expected=25136.165024\n",
      "predicted=17372.999568, expected=18725.609104\n",
      "predicted=20797.618034, expected=46289.128022\n",
      "predicted=26007.807888, expected=18133.596000\n",
      "predicted=23175.106108, expected=29387.071000\n",
      "predicted=22004.622387, expected=17213.783990\n",
      "predicted=24060.784561, expected=24420.851000\n",
      "predicted=26762.345030, expected=34867.686000\n",
      "predicted=28954.239856, expected=24500.746000\n",
      "predicted=26197.422822, expected=7926.317003\n",
      "predicted=22122.330160, expected=27716.771978\n",
      "predicted=20489.200615, expected=39766.266000\n",
      "predicted=28477.999161, expected=27564.148990\n",
      "predicted=29368.650014, expected=14403.953009\n",
      "predicted=21273.248417, expected=15149.498000\n",
      "predicted=19985.620127, expected=14331.890000\n",
      "predicted=24694.738331, expected=46096.955000\n",
      "predicted=28251.480497, expected=16740.960999\n",
      "predicted=23892.422304, expected=8623.647995\n",
      "predicted=17149.853288, expected=26887.114000\n",
      "predicted=18665.777576, expected=7126.960000\n",
      "predicted=23569.084820, expected=16683.186000\n",
      "predicted=21420.470465, expected=17381.678000\n",
      "predicted=14629.028423, expected=14604.581010\n",
      "predicted=16598.697144, expected=14289.872000\n",
      "Test RMSE: 12585.169\n"
     ]
    },
    {
     "data": {
      "image/png": "[encoded data removed]",
      "text/plain": [
       "<Figure size 432x288 with 1 Axes>"
      ]
     },
     "metadata": {
      "needs_background": "light"
     },
     "output_type": "display_data"
    }
   ],
   "source": [
    "# #X = y_train[\"sales\"].values\n",
    "# #size = int(len(X) * 0.66)\n",
    "# #train, test = X[0:size], X[size:len(X)]\n",
    "# history = [x for x in y_train]\n",
    "# predictions = list()\n",
    "# # walk-forward validation\n",
    "# from statsmodels.tsa.arima.model import ARIMA\n",
    "# for t in range(len(y_test)):\n",
    "#     model = ARIMA(history, order=(5,1,0))\n",
    "#     model_fit = model.fit()\n",
    "#     output = model_fit.forecast()\n",
    "#     yhat = output[0]\n",
    "#     predictions.append(yhat)\n",
    "#     obs = y_test[t]\n",
    "#     history.append(obs)\n",
    "#     print('predicted=%f, expected=%f' % (yhat, obs))\n",
    "# # evaluate forecasts\n",
    "# from sklearn.metrics import mean_squared_error\n",
    "# from math import sqrt\n",
    "# rmse = sqrt(mean_squared_error(y_test, predictions))\n",
    "# print('Test RMSE: %.3f' % rmse)\n",
    "# # plot forecasts against actual outcomes\n",
    "# plt.plot(y_test)\n",
    "# plt.plot(predictions, color='red')\n",
    "# plt.show()\n",
    "\n",
    "X = Total_sales[\"sales\"].values\n",
    "size = int(len(X) * 0.66)\n",
    "train, test = X[0:size], X[size:len(X)]\n",
    "history = [x for x in train]\n",
    "predictions = list()\n",
    "# walk-forward validation\n",
    "from statsmodels.tsa.arima.model import ARIMA\n",
    "for t in range(len(test)):\n",
    "    model = ARIMA(history, order=(5,1,0))\n",
    "    model_fit = model.fit()\n",
    "    output = model_fit.forecast()\n",
    "    yhat = output[0]\n",
    "    predictions.append(yhat)\n",
    "    obs = test[t]\n",
    "    history.append(obs)\n",
    "    print('predicted=%f, expected=%f' % (yhat, obs))\n",
    "# evaluate forecasts\n",
    "from sklearn.metrics import mean_squared_error\n",
    "from math import sqrt\n",
    "rmse = sqrt(mean_squared_error(test, predictions))\n",
    "print('Test RMSE: %.3f' % rmse)\n",
    "# plot forecasts against actual outcomes\n",
    "plt.plot(test)\n",
    "plt.plot(predictions, color='red')\n",
    "plt.show()"
   ]
  },
  {
   "cell_type": "code",
   "execution_count": null,
   "id": "1c84f9f8",
   "metadata": {},
   "outputs": [],
   "source": []
  },
  {
   "cell_type": "code",
   "execution_count": null,
   "id": "134b49ba",
   "metadata": {},
   "outputs": [],
   "source": []
  },
  {
   "cell_type": "code",
   "execution_count": null,
   "id": "4c036061",
   "metadata": {},
   "outputs": [],
   "source": [
    "##Arima 2\n",
    "# https://www.projectpro.io/article/how-to-build-arima-model-in-python/544"
   ]
  },
  {
   "cell_type": "code",
   "execution_count": 210,
   "id": "ab1a850d",
   "metadata": {},
   "outputs": [],
   "source": [
    "df=pd.read_csv('train.csv')\n"
   ]
  },
  {
   "cell_type": "code",
   "execution_count": 211,
   "id": "5a332cf7",
   "metadata": {},
   "outputs": [
    {
     "data": {
      "text/html": [
       "<div>\n",
       "<style scoped>\n",
       "    .dataframe tbody tr th:only-of-type {\n",
       "        vertical-align: middle;\n",
       "    }\n",
       "\n",
       "    .dataframe tbody tr th {\n",
       "        vertical-align: top;\n",
       "    }\n",
       "\n",
       "    .dataframe thead th {\n",
       "        text-align: right;\n",
       "    }\n",
       "</style>\n",
       "<table border=\"1\" class=\"dataframe\">\n",
       "  <thead>\n",
       "    <tr style=\"text-align: right;\">\n",
       "      <th></th>\n",
       "      <th>id</th>\n",
       "      <th>date</th>\n",
       "      <th>store_nbr</th>\n",
       "      <th>family</th>\n",
       "      <th>sales</th>\n",
       "      <th>onpromotion</th>\n",
       "    </tr>\n",
       "  </thead>\n",
       "  <tbody>\n",
       "    <tr>\n",
       "      <th>0</th>\n",
       "      <td>0</td>\n",
       "      <td>2013-01-01</td>\n",
       "      <td>1</td>\n",
       "      <td>AUTOMOTIVE</td>\n",
       "      <td>0.000</td>\n",
       "      <td>0</td>\n",
       "    </tr>\n",
       "    <tr>\n",
       "      <th>1</th>\n",
       "      <td>1</td>\n",
       "      <td>2013-01-01</td>\n",
       "      <td>1</td>\n",
       "      <td>BABY CARE</td>\n",
       "      <td>0.000</td>\n",
       "      <td>0</td>\n",
       "    </tr>\n",
       "    <tr>\n",
       "      <th>2</th>\n",
       "      <td>2</td>\n",
       "      <td>2013-01-01</td>\n",
       "      <td>1</td>\n",
       "      <td>BEAUTY</td>\n",
       "      <td>0.000</td>\n",
       "      <td>0</td>\n",
       "    </tr>\n",
       "    <tr>\n",
       "      <th>3</th>\n",
       "      <td>3</td>\n",
       "      <td>2013-01-01</td>\n",
       "      <td>1</td>\n",
       "      <td>BEVERAGES</td>\n",
       "      <td>0.000</td>\n",
       "      <td>0</td>\n",
       "    </tr>\n",
       "    <tr>\n",
       "      <th>4</th>\n",
       "      <td>4</td>\n",
       "      <td>2013-01-01</td>\n",
       "      <td>1</td>\n",
       "      <td>BOOKS</td>\n",
       "      <td>0.000</td>\n",
       "      <td>0</td>\n",
       "    </tr>\n",
       "    <tr>\n",
       "      <th>...</th>\n",
       "      <td>...</td>\n",
       "      <td>...</td>\n",
       "      <td>...</td>\n",
       "      <td>...</td>\n",
       "      <td>...</td>\n",
       "      <td>...</td>\n",
       "    </tr>\n",
       "    <tr>\n",
       "      <th>3000883</th>\n",
       "      <td>3000883</td>\n",
       "      <td>2017-08-15</td>\n",
       "      <td>9</td>\n",
       "      <td>POULTRY</td>\n",
       "      <td>438.133</td>\n",
       "      <td>0</td>\n",
       "    </tr>\n",
       "    <tr>\n",
       "      <th>3000884</th>\n",
       "      <td>3000884</td>\n",
       "      <td>2017-08-15</td>\n",
       "      <td>9</td>\n",
       "      <td>PREPARED FOODS</td>\n",
       "      <td>154.553</td>\n",
       "      <td>1</td>\n",
       "    </tr>\n",
       "    <tr>\n",
       "      <th>3000885</th>\n",
       "      <td>3000885</td>\n",
       "      <td>2017-08-15</td>\n",
       "      <td>9</td>\n",
       "      <td>PRODUCE</td>\n",
       "      <td>2419.729</td>\n",
       "      <td>148</td>\n",
       "    </tr>\n",
       "    <tr>\n",
       "      <th>3000886</th>\n",
       "      <td>3000886</td>\n",
       "      <td>2017-08-15</td>\n",
       "      <td>9</td>\n",
       "      <td>SCHOOL AND OFFICE SUPPLIES</td>\n",
       "      <td>121.000</td>\n",
       "      <td>8</td>\n",
       "    </tr>\n",
       "    <tr>\n",
       "      <th>3000887</th>\n",
       "      <td>3000887</td>\n",
       "      <td>2017-08-15</td>\n",
       "      <td>9</td>\n",
       "      <td>SEAFOOD</td>\n",
       "      <td>16.000</td>\n",
       "      <td>0</td>\n",
       "    </tr>\n",
       "  </tbody>\n",
       "</table>\n",
       "<p>3000888 rows × 6 columns</p>\n",
       "</div>"
      ],
      "text/plain": [
       "              id        date  store_nbr                      family     sales  \\\n",
       "0              0  2013-01-01          1                  AUTOMOTIVE     0.000   \n",
       "1              1  2013-01-01          1                   BABY CARE     0.000   \n",
       "2              2  2013-01-01          1                      BEAUTY     0.000   \n",
       "3              3  2013-01-01          1                   BEVERAGES     0.000   \n",
       "4              4  2013-01-01          1                       BOOKS     0.000   \n",
       "...          ...         ...        ...                         ...       ...   \n",
       "3000883  3000883  2017-08-15          9                     POULTRY   438.133   \n",
       "3000884  3000884  2017-08-15          9              PREPARED FOODS   154.553   \n",
       "3000885  3000885  2017-08-15          9                     PRODUCE  2419.729   \n",
       "3000886  3000886  2017-08-15          9  SCHOOL AND OFFICE SUPPLIES   121.000   \n",
       "3000887  3000887  2017-08-15          9                     SEAFOOD    16.000   \n",
       "\n",
       "         onpromotion  \n",
       "0                  0  \n",
       "1                  0  \n",
       "2                  0  \n",
       "3                  0  \n",
       "4                  0  \n",
       "...              ...  \n",
       "3000883            0  \n",
       "3000884            1  \n",
       "3000885          148  \n",
       "3000886            8  \n",
       "3000887            0  \n",
       "\n",
       "[3000888 rows x 6 columns]"
      ]
     },
     "execution_count": 211,
     "metadata": {},
     "output_type": "execute_result"
    }
   ],
   "source": [
    "df"
   ]
  },
  {
   "cell_type": "code",
   "execution_count": 212,
   "id": "d584ad08",
   "metadata": {},
   "outputs": [
    {
     "data": {
      "text/plain": [
       "id             3000888\n",
       "date              1684\n",
       "store_nbr           54\n",
       "family              33\n",
       "sales           379610\n",
       "onpromotion        362\n",
       "dtype: int64"
      ]
     },
     "execution_count": 212,
     "metadata": {},
     "output_type": "execute_result"
    }
   ],
   "source": [
    "df.nunique()"
   ]
  },
  {
   "cell_type": "code",
   "execution_count": 213,
   "id": "79ce4623",
   "metadata": {},
   "outputs": [],
   "source": [
    "df=df.groupby('date')['sales'].mean()\n",
    "df=pd.DataFrame(df)"
   ]
  },
  {
   "cell_type": "code",
   "execution_count": 214,
   "id": "0bfd869e",
   "metadata": {},
   "outputs": [
    {
     "data": {
      "text/html": [
       "<div>\n",
       "<style scoped>\n",
       "    .dataframe tbody tr th:only-of-type {\n",
       "        vertical-align: middle;\n",
       "    }\n",
       "\n",
       "    .dataframe tbody tr th {\n",
       "        vertical-align: top;\n",
       "    }\n",
       "\n",
       "    .dataframe thead th {\n",
       "        text-align: right;\n",
       "    }\n",
       "</style>\n",
       "<table border=\"1\" class=\"dataframe\">\n",
       "  <thead>\n",
       "    <tr style=\"text-align: right;\">\n",
       "      <th></th>\n",
       "      <th>sales</th>\n",
       "    </tr>\n",
       "    <tr>\n",
       "      <th>date</th>\n",
       "      <th></th>\n",
       "    </tr>\n",
       "  </thead>\n",
       "  <tbody>\n",
       "    <tr>\n",
       "      <th>2013-01-01</th>\n",
       "      <td>1.409438</td>\n",
       "    </tr>\n",
       "    <tr>\n",
       "      <th>2013-01-02</th>\n",
       "      <td>278.390807</td>\n",
       "    </tr>\n",
       "    <tr>\n",
       "      <th>2013-01-03</th>\n",
       "      <td>202.840197</td>\n",
       "    </tr>\n",
       "    <tr>\n",
       "      <th>2013-01-04</th>\n",
       "      <td>198.911154</td>\n",
       "    </tr>\n",
       "    <tr>\n",
       "      <th>2013-01-05</th>\n",
       "      <td>267.873244</td>\n",
       "    </tr>\n",
       "    <tr>\n",
       "      <th>...</th>\n",
       "      <td>...</td>\n",
       "    </tr>\n",
       "    <tr>\n",
       "      <th>2017-08-11</th>\n",
       "      <td>463.733851</td>\n",
       "    </tr>\n",
       "    <tr>\n",
       "      <th>2017-08-12</th>\n",
       "      <td>444.798280</td>\n",
       "    </tr>\n",
       "    <tr>\n",
       "      <th>2017-08-13</th>\n",
       "      <td>485.768618</td>\n",
       "    </tr>\n",
       "    <tr>\n",
       "      <th>2017-08-14</th>\n",
       "      <td>427.004717</td>\n",
       "    </tr>\n",
       "    <tr>\n",
       "      <th>2017-08-15</th>\n",
       "      <td>427.980884</td>\n",
       "    </tr>\n",
       "  </tbody>\n",
       "</table>\n",
       "<p>1684 rows × 1 columns</p>\n",
       "</div>"
      ],
      "text/plain": [
       "                 sales\n",
       "date                  \n",
       "2013-01-01    1.409438\n",
       "2013-01-02  278.390807\n",
       "2013-01-03  202.840197\n",
       "2013-01-04  198.911154\n",
       "2013-01-05  267.873244\n",
       "...                ...\n",
       "2017-08-11  463.733851\n",
       "2017-08-12  444.798280\n",
       "2017-08-13  485.768618\n",
       "2017-08-14  427.004717\n",
       "2017-08-15  427.980884\n",
       "\n",
       "[1684 rows x 1 columns]"
      ]
     },
     "execution_count": 214,
     "metadata": {},
     "output_type": "execute_result"
    }
   ],
   "source": [
    "df"
   ]
  },
  {
   "cell_type": "code",
   "execution_count": 215,
   "id": "36ff5711",
   "metadata": {},
   "outputs": [],
   "source": [
    "df= df[df['sales'] != 0]"
   ]
  },
  {
   "cell_type": "code",
   "execution_count": 216,
   "id": "d3004d85",
   "metadata": {},
   "outputs": [
    {
     "data": {
      "text/html": [
       "<div>\n",
       "<style scoped>\n",
       "    .dataframe tbody tr th:only-of-type {\n",
       "        vertical-align: middle;\n",
       "    }\n",
       "\n",
       "    .dataframe tbody tr th {\n",
       "        vertical-align: top;\n",
       "    }\n",
       "\n",
       "    .dataframe thead th {\n",
       "        text-align: right;\n",
       "    }\n",
       "</style>\n",
       "<table border=\"1\" class=\"dataframe\">\n",
       "  <thead>\n",
       "    <tr style=\"text-align: right;\">\n",
       "      <th></th>\n",
       "      <th>sales</th>\n",
       "    </tr>\n",
       "    <tr>\n",
       "      <th>date</th>\n",
       "      <th></th>\n",
       "    </tr>\n",
       "  </thead>\n",
       "  <tbody>\n",
       "    <tr>\n",
       "      <th>2013-01-01</th>\n",
       "      <td>1.409438</td>\n",
       "    </tr>\n",
       "    <tr>\n",
       "      <th>2013-01-02</th>\n",
       "      <td>278.390807</td>\n",
       "    </tr>\n",
       "    <tr>\n",
       "      <th>2013-01-03</th>\n",
       "      <td>202.840197</td>\n",
       "    </tr>\n",
       "    <tr>\n",
       "      <th>2013-01-04</th>\n",
       "      <td>198.911154</td>\n",
       "    </tr>\n",
       "    <tr>\n",
       "      <th>2013-01-05</th>\n",
       "      <td>267.873244</td>\n",
       "    </tr>\n",
       "    <tr>\n",
       "      <th>...</th>\n",
       "      <td>...</td>\n",
       "    </tr>\n",
       "    <tr>\n",
       "      <th>2017-08-11</th>\n",
       "      <td>463.733851</td>\n",
       "    </tr>\n",
       "    <tr>\n",
       "      <th>2017-08-12</th>\n",
       "      <td>444.798280</td>\n",
       "    </tr>\n",
       "    <tr>\n",
       "      <th>2017-08-13</th>\n",
       "      <td>485.768618</td>\n",
       "    </tr>\n",
       "    <tr>\n",
       "      <th>2017-08-14</th>\n",
       "      <td>427.004717</td>\n",
       "    </tr>\n",
       "    <tr>\n",
       "      <th>2017-08-15</th>\n",
       "      <td>427.980884</td>\n",
       "    </tr>\n",
       "  </tbody>\n",
       "</table>\n",
       "<p>1684 rows × 1 columns</p>\n",
       "</div>"
      ],
      "text/plain": [
       "                 sales\n",
       "date                  \n",
       "2013-01-01    1.409438\n",
       "2013-01-02  278.390807\n",
       "2013-01-03  202.840197\n",
       "2013-01-04  198.911154\n",
       "2013-01-05  267.873244\n",
       "...                ...\n",
       "2017-08-11  463.733851\n",
       "2017-08-12  444.798280\n",
       "2017-08-13  485.768618\n",
       "2017-08-14  427.004717\n",
       "2017-08-15  427.980884\n",
       "\n",
       "[1684 rows x 1 columns]"
      ]
     },
     "execution_count": 216,
     "metadata": {},
     "output_type": "execute_result"
    }
   ],
   "source": [
    "df"
   ]
  },
  {
   "cell_type": "code",
   "execution_count": null,
   "id": "1aff8b5a",
   "metadata": {},
   "outputs": [],
   "source": []
  },
  {
   "cell_type": "code",
   "execution_count": 217,
   "id": "383d5b6e",
   "metadata": {},
   "outputs": [
    {
     "data": {
      "image/png": "[encoded data removed]",
      "text/plain": [
       "<Figure size 1080x576 with 1 Axes>"
      ]
     },
     "metadata": {
      "needs_background": "light"
     },
     "output_type": "display_data"
    }
   ],
   "source": [
    "import matplotlib.pyplot as plt\n",
    "\n",
    "# setting the size\n",
    "plt.figure(figsize=(15,8))\n",
    "\n",
    "# plotting the graph\n",
    "plt.plot(df.index, df.sales)\n",
    "plt.show()"
   ]
  },
  {
   "cell_type": "code",
   "execution_count": 218,
   "id": "d796a0f8",
   "metadata": {},
   "outputs": [],
   "source": [
    "df = df[[\"sales\"]]"
   ]
  },
  {
   "cell_type": "code",
   "execution_count": 219,
   "id": "cbdbe212",
   "metadata": {},
   "outputs": [
    {
     "data": {
      "text/plain": [
       "1684"
      ]
     },
     "execution_count": 219,
     "metadata": {},
     "output_type": "execute_result"
    }
   ],
   "source": [
    "len(df)"
   ]
  },
  {
   "cell_type": "code",
   "execution_count": 220,
   "id": "53e4a906",
   "metadata": {},
   "outputs": [
    {
     "data": {
      "text/html": [
       "<div>\n",
       "<style scoped>\n",
       "    .dataframe tbody tr th:only-of-type {\n",
       "        vertical-align: middle;\n",
       "    }\n",
       "\n",
       "    .dataframe tbody tr th {\n",
       "        vertical-align: top;\n",
       "    }\n",
       "\n",
       "    .dataframe thead th {\n",
       "        text-align: right;\n",
       "    }\n",
       "</style>\n",
       "<table border=\"1\" class=\"dataframe\">\n",
       "  <thead>\n",
       "    <tr style=\"text-align: right;\">\n",
       "      <th></th>\n",
       "      <th>sales</th>\n",
       "    </tr>\n",
       "    <tr>\n",
       "      <th>date</th>\n",
       "      <th></th>\n",
       "    </tr>\n",
       "  </thead>\n",
       "  <tbody>\n",
       "    <tr>\n",
       "      <th>2013-01-01</th>\n",
       "      <td>1.409438</td>\n",
       "    </tr>\n",
       "    <tr>\n",
       "      <th>2013-01-02</th>\n",
       "      <td>278.390807</td>\n",
       "    </tr>\n",
       "    <tr>\n",
       "      <th>2013-01-03</th>\n",
       "      <td>202.840197</td>\n",
       "    </tr>\n",
       "    <tr>\n",
       "      <th>2013-01-04</th>\n",
       "      <td>198.911154</td>\n",
       "    </tr>\n",
       "    <tr>\n",
       "      <th>2013-01-05</th>\n",
       "      <td>267.873244</td>\n",
       "    </tr>\n",
       "    <tr>\n",
       "      <th>...</th>\n",
       "      <td>...</td>\n",
       "    </tr>\n",
       "    <tr>\n",
       "      <th>2017-08-11</th>\n",
       "      <td>463.733851</td>\n",
       "    </tr>\n",
       "    <tr>\n",
       "      <th>2017-08-12</th>\n",
       "      <td>444.798280</td>\n",
       "    </tr>\n",
       "    <tr>\n",
       "      <th>2017-08-13</th>\n",
       "      <td>485.768618</td>\n",
       "    </tr>\n",
       "    <tr>\n",
       "      <th>2017-08-14</th>\n",
       "      <td>427.004717</td>\n",
       "    </tr>\n",
       "    <tr>\n",
       "      <th>2017-08-15</th>\n",
       "      <td>427.980884</td>\n",
       "    </tr>\n",
       "  </tbody>\n",
       "</table>\n",
       "<p>1684 rows × 1 columns</p>\n",
       "</div>"
      ],
      "text/plain": [
       "                 sales\n",
       "date                  \n",
       "2013-01-01    1.409438\n",
       "2013-01-02  278.390807\n",
       "2013-01-03  202.840197\n",
       "2013-01-04  198.911154\n",
       "2013-01-05  267.873244\n",
       "...                ...\n",
       "2017-08-11  463.733851\n",
       "2017-08-12  444.798280\n",
       "2017-08-13  485.768618\n",
       "2017-08-14  427.004717\n",
       "2017-08-15  427.980884\n",
       "\n",
       "[1684 rows x 1 columns]"
      ]
     },
     "execution_count": 220,
     "metadata": {},
     "output_type": "execute_result"
    }
   ],
   "source": [
    "df"
   ]
  },
  {
   "cell_type": "code",
   "execution_count": 239,
   "id": "eee92852",
   "metadata": {},
   "outputs": [
    {
     "name": "stdout",
     "output_type": "stream",
     "text": [
      "                             ARIMA Model Results                              \n",
      "==============================================================================\n",
      "Dep. Variable:                D.sales   No. Observations:                 1499\n",
      "Model:                 ARIMA(5, 1, 0)   Log Likelihood               -8441.534\n",
      "Method:                       css-mle   S.D. of innovations             67.479\n",
      "Date:                Sun, 31 Jul 2022   AIC                          16897.067\n",
      "Time:                        12:50:47   BIC                          16934.255\n",
      "Sample:                             1   HQIC                         16910.922\n",
      "                                                                              \n",
      "=================================================================================\n",
      "                    coef    std err          z      P>|z|      [0.025      0.975]\n",
      "---------------------------------------------------------------------------------\n",
      "const             0.2120      0.566      0.374      0.708      -0.898       1.322\n",
      "ar.L1.D.sales    -0.2918      0.022    -13.016      0.000      -0.336      -0.248\n",
      "ar.L2.D.sales    -0.5586      0.022    -25.370      0.000      -0.602      -0.515\n",
      "ar.L3.D.sales    -0.3951      0.024    -16.261      0.000      -0.443      -0.347\n",
      "ar.L4.D.sales    -0.3321      0.022    -15.087      0.000      -0.375      -0.289\n",
      "ar.L5.D.sales    -0.5048      0.022    -22.540      0.000      -0.549      -0.461\n",
      "                                    Roots                                    \n",
      "=============================================================================\n",
      "                  Real          Imaginary           Modulus         Frequency\n",
      "-----------------------------------------------------------------------------\n",
      "AR.1            0.6679           -0.8863j            1.1098           -0.1472\n",
      "AR.2            0.6679           +0.8863j            1.1098            0.1472\n",
      "AR.3           -0.3710           -1.0712j            1.1336           -0.3031\n",
      "AR.4           -0.3710           +1.0712j            1.1336            0.3031\n",
      "AR.5           -1.2515           -0.0000j            1.2515           -0.5000\n",
      "-----------------------------------------------------------------------------\n"
     ]
    }
   ],
   "source": [
    "from statsmodels.tsa.arima_model import ARIMA\n",
    "\n",
    "arima_model = ARIMA(df.sales[0:1500],order = (5,1,0))\n",
    "model = arima_model.fit()\n",
    "print(model.summary())"
   ]
  },
  {
   "cell_type": "code",
   "execution_count": 240,
   "id": "7dd6e96e",
   "metadata": {},
   "outputs": [
    {
     "name": "stdout",
     "output_type": "stream",
     "text": [
      "date\n",
      "2017-02-13    510.937000\n",
      "2017-02-14    476.344163\n",
      "2017-02-15    437.684202\n",
      "2017-02-16    426.575989\n",
      "2017-02-17    459.556415\n",
      "                 ...    \n",
      "2017-08-11    521.226077\n",
      "2017-08-12    521.438117\n",
      "2017-08-13    521.650157\n",
      "2017-08-14    521.862197\n",
      "2017-08-15    522.074237\n",
      "Length: 184, dtype: float64\n",
      "date\n",
      "2017-02-13    445.743228\n",
      "2017-02-14    360.613461\n",
      "2017-02-15    418.507494\n",
      "2017-02-16    362.496216\n",
      "2017-02-17    425.844957\n",
      "                 ...    \n",
      "2017-08-11    463.733851\n",
      "2017-08-12    444.798280\n",
      "2017-08-13    485.768618\n",
      "2017-08-14    427.004717\n",
      "2017-08-15    427.980884\n",
      "Name: sales, Length: 184, dtype: float64\n"
     ]
    }
   ],
   "source": [
    "y_pred = pd.Series(model.forecast(184)[0], index=df.sales[1500:].index)\n",
    "y_true = df.sales[1500:]\n",
    "print(y_pred)\n",
    "print(y_true)"
   ]
  },
  {
   "cell_type": "code",
   "execution_count": 241,
   "id": "fd979251",
   "metadata": {},
   "outputs": [
    {
     "data": {
      "text/plain": [
       "array([445.74322787, 360.61346076, 418.50749444, 362.49621609,\n",
       "       425.84495667, 596.7423367 , 481.98491752, 425.99329964,\n",
       "       402.81014423, 414.92033356, 379.11251412, 458.02328785,\n",
       "       575.76387363, 435.30246239, 418.04542544, 532.75355166,\n",
       "       565.94933219, 469.26216558, 495.30851643, 631.72634515,\n",
       "       671.70801914, 443.40249219, 427.53464084, 438.2977901 ,\n",
       "       366.94791918, 434.26223729, 561.82628171, 643.10147417,\n",
       "       423.33915827, 393.37712382, 457.7002735 , 392.31659193,\n",
       "       455.83994067, 583.00031771, 649.34940437, 463.76482038,\n",
       "       418.97919539, 430.90954261, 376.45791809, 442.15158559,\n",
       "       582.56976256, 618.1579555 , 440.01305558, 394.46910695,\n",
       "       462.75700619, 357.81388384, 493.12572272, 821.0347713 ,\n",
       "       638.97309702, 468.68216724, 468.91281482, 475.10174406,\n",
       "       383.3106454 , 429.57475417, 554.76513466, 618.24559882,\n",
       "       414.92263243, 416.01090359, 444.31106222, 413.59683793,\n",
       "       415.76289946, 504.2706049 , 553.02682105, 435.41913912,\n",
       "       402.46706833, 412.86936826, 379.23906953, 446.57457569,\n",
       "       547.11157007, 639.77007565, 423.721959  , 403.47703739,\n",
       "       438.36098934, 350.67902699, 447.60753373, 599.48362286,\n",
       "       584.31495397, 733.27686133, 509.16054664, 518.65727116,\n",
       "       402.16308024, 438.15847756, 583.28724011, 688.76577325,\n",
       "       435.63832492, 401.68978613, 429.91128344, 364.00135412,\n",
       "       429.18766318, 626.81082556, 496.1840145 , 461.86059042,\n",
       "       453.31307243, 472.17037483, 352.68686305, 434.21741743,\n",
       "       581.18259362, 674.48871281, 437.11288223, 405.80907294,\n",
       "       418.80113756, 347.98442419, 552.475394  , 523.13125317,\n",
       "       595.83144608, 435.92207466, 416.65054826, 481.51635769,\n",
       "       430.33623616, 515.38794564, 660.01016226, 772.45315404,\n",
       "       512.17387828, 452.04637932, 473.0526583 , 374.35454603,\n",
       "       446.19311788, 557.65021552, 681.07404426, 431.17270424,\n",
       "       409.32264862, 441.01341689, 370.5602396 , 468.45478538,\n",
       "       615.11422609, 541.60725094, 443.96542858, 441.8219512 ,\n",
       "       429.94332845, 342.23840121, 427.07617568, 540.55456068,\n",
       "       613.13740663, 423.88767961, 382.83864698, 410.71660214,\n",
       "       353.9909107 , 450.20939351, 677.62621878, 727.48553174,\n",
       "       519.16016207, 467.09275309, 473.79439569, 392.96970256,\n",
       "       452.18423243, 560.23972672, 617.75158382, 451.26759879,\n",
       "       409.95217043, 420.20201791, 353.33970984, 429.56768653,\n",
       "       543.81432384, 617.73496017, 459.21746473, 409.72710939,\n",
       "       430.96452193, 386.24470699, 439.06750798, 523.51405538,\n",
       "       574.79727343, 458.22913978, 400.4386266 , 415.63021558,\n",
       "       370.28609824, 468.63057363, 579.29902679, 630.61306282,\n",
       "       497.11382765, 554.72938451, 541.36476771, 408.56817347,\n",
       "       464.52058705, 541.91562878, 588.97820666, 447.51120304,\n",
       "       402.78695236, 411.97512571, 365.53698764, 463.73385074,\n",
       "       444.79828007, 485.76861811, 427.00471722, 427.98088437])"
      ]
     },
     "execution_count": 241,
     "metadata": {},
     "output_type": "execute_result"
    }
   ],
   "source": [
    "y_true.values"
   ]
  },
  {
   "cell_type": "code",
   "execution_count": 242,
   "id": "f405a477",
   "metadata": {},
   "outputs": [
    {
     "data": {
      "image/png": "[encoded data removed]",
      "text/plain": [
       "<Figure size 432x288 with 1 Axes>"
      ]
     },
     "metadata": {
      "needs_background": "light"
     },
     "output_type": "display_data"
    }
   ],
   "source": [
    "plt.plot(y_true.values)\n",
    "plt.plot(y_pred, color='red')\n",
    "plt.show()"
   ]
  },
  {
   "cell_type": "code",
   "execution_count": null,
   "id": "dbb9dc73",
   "metadata": {},
   "outputs": [],
   "source": []
  }
 ],
 "metadata": {
  "kernelspec": {
   "display_name": "Python 3",
   "language": "python",
   "name": "python3"
  },
  "language_info": {
   "codemirror_mode": {
    "name": "ipython",
    "version": 3
   },
   "file_extension": ".py",
   "mimetype": "text/x-python",
   "name": "python",
   "nbconvert_exporter": "python",
   "pygments_lexer": "ipython3",
   "version": "3.8.8"
  }
 },
 "nbformat": 4,
 "nbformat_minor": 5
}
